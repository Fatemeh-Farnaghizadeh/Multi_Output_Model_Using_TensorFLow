{
 "cells": [
  {
   "cell_type": "markdown",
   "id": "31bd03c0",
   "metadata": {
    "pycharm": {
     "name": "#%% md\n"
    }
   },
   "source": [
    "# Description\n",
    "For this notebook, we will use the <a href=\"https://archive.ics.uci.edu/ml/datasets/Wine+Quality\">Wine Quality Dataset</a> from the UCI machine learning repository. It has separate datasets for red wine and white wine.\n"
   ]
  },
  {
   "cell_type": "markdown",
   "id": "648937da",
   "metadata": {
    "pycharm": {
     "name": "#%% md\n"
    }
   },
   "source": [
    "# Imports"
   ]
  },
  {
   "cell_type": "code",
   "execution_count": 82,
   "id": "61b50060",
   "metadata": {
    "pycharm": {
     "name": "#%%\n"
    }
   },
   "outputs": [],
   "source": [
    "import tensorflow as tf\n",
    "from tensorflow.keras.layers import Dense, Input\n",
    "from tensorflow.keras.optimizers import RMSprop\n",
    "from tensorflow.keras.models import Model\n",
    "\n",
    "import numpy as np\n",
    "import pandas as pd\n",
    "from sklearn.model_selection import train_test_split"
   ]
  },
  {
   "cell_type": "markdown",
   "id": "28c1d6ab",
   "metadata": {
    "pycharm": {
     "name": "#%% md\n"
    }
   },
   "source": [
    "# Load the Datasets"
   ]
  },
  {
   "cell_type": "code",
   "execution_count": 83,
   "id": "22b7dd0b",
   "metadata": {
    "pycharm": {
     "name": "#%%\n"
    }
   },
   "outputs": [],
   "source": [
    "#loading white_wine dataset from UCI repository and adding is_red column to dataset as class column\n",
    "\n",
    "URL= 'http://archive.ics.uci.edu/ml/machine-learning-databases/wine-quality/winequality-white.csv'\n",
    "white_wine=pd.read_csv(URL, sep=';')\n",
    "white_wine['is_red']=0\n",
    "white_wine=white_wine.drop_duplicates(keep='first')"
   ]
  },
  {
   "cell_type": "code",
   "execution_count": 84,
   "id": "70f2ccd1",
   "metadata": {
    "pycharm": {
     "name": "#%%\n"
    }
   },
   "outputs": [],
   "source": [
    "#loading red_wine dataset from UCI repository and adding is_red column to dataset as class column\n",
    "\n",
    "URL='http://archive.ics.uci.edu/ml/machine-learning-databases/wine-quality/winequality-red.csv'\n",
    "red_wine=pd.read_csv(URL, sep=';')\n",
    "red_wine['is_red']=1\n",
    "red_wine=red_wine.drop_duplicates(keep='first')"
   ]
  },
  {
   "cell_type": "markdown",
   "id": "47329b63",
   "metadata": {
    "pycharm": {
     "name": "#%% md\n"
    }
   },
   "source": [
    "# Data pre_processing"
   ]
  },
  {
   "cell_type": "code",
   "execution_count": 85,
   "id": "0617f9cc",
   "metadata": {
    "pycharm": {
     "name": "#%%\n"
    }
   },
   "outputs": [],
   "source": [
    "wine=pd.concat([white_wine, red_wine], ignore_index=True)"
   ]
  },
  {
   "cell_type": "markdown",
   "id": "ffe592aa",
   "metadata": {
    "pycharm": {
     "name": "#%% md\n"
    }
   },
   "source": [
    "# balancing the dataset"
   ]
  },
  {
   "cell_type": "code",
   "execution_count": 86,
   "id": "58ec7b23",
   "metadata": {
    "pycharm": {
     "name": "#%%\n"
    }
   },
   "outputs": [
    {
     "data": {
      "text/plain": [
       "<AxesSubplot:>"
      ]
     },
     "execution_count": 86,
     "metadata": {},
     "output_type": "execute_result"
    },
    {
     "data": {
      "image/png": "[encoded data removed]",
      "text/plain": [
       "<Figure size 432x288 with 1 Axes>"
      ]
     },
     "metadata": {
      "needs_background": "light"
     },
     "output_type": "display_data"
    }
   ],
   "source": [
    "wine['quality'].hist(bins=30)"
   ]
  },
  {
   "cell_type": "code",
   "execution_count": 87,
   "id": "6416be4d",
   "metadata": {
    "pycharm": {
     "name": "#%%\n"
    }
   },
   "outputs": [
    {
     "data": {
      "text/html": [
       "<div>\n",
       "<style scoped>\n",
       "    .dataframe tbody tr th:only-of-type {\n",
       "        vertical-align: middle;\n",
       "    }\n",
       "\n",
       "    .dataframe tbody tr th {\n",
       "        vertical-align: top;\n",
       "    }\n",
       "\n",
       "    .dataframe thead th {\n",
       "        text-align: right;\n",
       "    }\n",
       "</style>\n",
       "<table border=\"1\" class=\"dataframe\">\n",
       "  <thead>\n",
       "    <tr style=\"text-align: right;\">\n",
       "      <th></th>\n",
       "      <th>fixed acidity</th>\n",
       "      <th>volatile acidity</th>\n",
       "      <th>citric acid</th>\n",
       "      <th>residual sugar</th>\n",
       "      <th>chlorides</th>\n",
       "      <th>free sulfur dioxide</th>\n",
       "      <th>total sulfur dioxide</th>\n",
       "      <th>density</th>\n",
       "      <th>pH</th>\n",
       "      <th>sulphates</th>\n",
       "      <th>alcohol</th>\n",
       "      <th>quality</th>\n",
       "      <th>is_red</th>\n",
       "    </tr>\n",
       "  </thead>\n",
       "  <tbody>\n",
       "    <tr>\n",
       "      <th>0</th>\n",
       "      <td>7.0</td>\n",
       "      <td>0.270</td>\n",
       "      <td>0.36</td>\n",
       "      <td>20.7</td>\n",
       "      <td>0.045</td>\n",
       "      <td>45.0</td>\n",
       "      <td>170.0</td>\n",
       "      <td>1.00100</td>\n",
       "      <td>3.00</td>\n",
       "      <td>0.45</td>\n",
       "      <td>8.8</td>\n",
       "      <td>6</td>\n",
       "      <td>0</td>\n",
       "    </tr>\n",
       "    <tr>\n",
       "      <th>1</th>\n",
       "      <td>6.3</td>\n",
       "      <td>0.300</td>\n",
       "      <td>0.34</td>\n",
       "      <td>1.6</td>\n",
       "      <td>0.049</td>\n",
       "      <td>14.0</td>\n",
       "      <td>132.0</td>\n",
       "      <td>0.99400</td>\n",
       "      <td>3.30</td>\n",
       "      <td>0.49</td>\n",
       "      <td>9.5</td>\n",
       "      <td>6</td>\n",
       "      <td>0</td>\n",
       "    </tr>\n",
       "    <tr>\n",
       "      <th>2</th>\n",
       "      <td>8.1</td>\n",
       "      <td>0.280</td>\n",
       "      <td>0.40</td>\n",
       "      <td>6.9</td>\n",
       "      <td>0.050</td>\n",
       "      <td>30.0</td>\n",
       "      <td>97.0</td>\n",
       "      <td>0.99510</td>\n",
       "      <td>3.26</td>\n",
       "      <td>0.44</td>\n",
       "      <td>10.1</td>\n",
       "      <td>6</td>\n",
       "      <td>0</td>\n",
       "    </tr>\n",
       "    <tr>\n",
       "      <th>3</th>\n",
       "      <td>7.2</td>\n",
       "      <td>0.230</td>\n",
       "      <td>0.32</td>\n",
       "      <td>8.5</td>\n",
       "      <td>0.058</td>\n",
       "      <td>47.0</td>\n",
       "      <td>186.0</td>\n",
       "      <td>0.99560</td>\n",
       "      <td>3.19</td>\n",
       "      <td>0.40</td>\n",
       "      <td>9.9</td>\n",
       "      <td>6</td>\n",
       "      <td>0</td>\n",
       "    </tr>\n",
       "    <tr>\n",
       "      <th>4</th>\n",
       "      <td>6.2</td>\n",
       "      <td>0.320</td>\n",
       "      <td>0.16</td>\n",
       "      <td>7.0</td>\n",
       "      <td>0.045</td>\n",
       "      <td>30.0</td>\n",
       "      <td>136.0</td>\n",
       "      <td>0.99490</td>\n",
       "      <td>3.18</td>\n",
       "      <td>0.47</td>\n",
       "      <td>9.6</td>\n",
       "      <td>6</td>\n",
       "      <td>0</td>\n",
       "    </tr>\n",
       "    <tr>\n",
       "      <th>...</th>\n",
       "      <td>...</td>\n",
       "      <td>...</td>\n",
       "      <td>...</td>\n",
       "      <td>...</td>\n",
       "      <td>...</td>\n",
       "      <td>...</td>\n",
       "      <td>...</td>\n",
       "      <td>...</td>\n",
       "      <td>...</td>\n",
       "      <td>...</td>\n",
       "      <td>...</td>\n",
       "      <td>...</td>\n",
       "      <td>...</td>\n",
       "    </tr>\n",
       "    <tr>\n",
       "      <th>4926</th>\n",
       "      <td>6.8</td>\n",
       "      <td>0.620</td>\n",
       "      <td>0.08</td>\n",
       "      <td>1.9</td>\n",
       "      <td>0.068</td>\n",
       "      <td>28.0</td>\n",
       "      <td>38.0</td>\n",
       "      <td>0.99651</td>\n",
       "      <td>3.42</td>\n",
       "      <td>0.82</td>\n",
       "      <td>9.5</td>\n",
       "      <td>6</td>\n",
       "      <td>1</td>\n",
       "    </tr>\n",
       "    <tr>\n",
       "      <th>4927</th>\n",
       "      <td>6.2</td>\n",
       "      <td>0.600</td>\n",
       "      <td>0.08</td>\n",
       "      <td>2.0</td>\n",
       "      <td>0.090</td>\n",
       "      <td>32.0</td>\n",
       "      <td>44.0</td>\n",
       "      <td>0.99490</td>\n",
       "      <td>3.45</td>\n",
       "      <td>0.58</td>\n",
       "      <td>10.5</td>\n",
       "      <td>5</td>\n",
       "      <td>1</td>\n",
       "    </tr>\n",
       "    <tr>\n",
       "      <th>4928</th>\n",
       "      <td>5.9</td>\n",
       "      <td>0.550</td>\n",
       "      <td>0.10</td>\n",
       "      <td>2.2</td>\n",
       "      <td>0.062</td>\n",
       "      <td>39.0</td>\n",
       "      <td>51.0</td>\n",
       "      <td>0.99512</td>\n",
       "      <td>3.52</td>\n",
       "      <td>0.76</td>\n",
       "      <td>11.2</td>\n",
       "      <td>6</td>\n",
       "      <td>1</td>\n",
       "    </tr>\n",
       "    <tr>\n",
       "      <th>4929</th>\n",
       "      <td>5.9</td>\n",
       "      <td>0.645</td>\n",
       "      <td>0.12</td>\n",
       "      <td>2.0</td>\n",
       "      <td>0.075</td>\n",
       "      <td>32.0</td>\n",
       "      <td>44.0</td>\n",
       "      <td>0.99547</td>\n",
       "      <td>3.57</td>\n",
       "      <td>0.71</td>\n",
       "      <td>10.2</td>\n",
       "      <td>5</td>\n",
       "      <td>1</td>\n",
       "    </tr>\n",
       "    <tr>\n",
       "      <th>4930</th>\n",
       "      <td>6.0</td>\n",
       "      <td>0.310</td>\n",
       "      <td>0.47</td>\n",
       "      <td>3.6</td>\n",
       "      <td>0.067</td>\n",
       "      <td>18.0</td>\n",
       "      <td>42.0</td>\n",
       "      <td>0.99549</td>\n",
       "      <td>3.39</td>\n",
       "      <td>0.66</td>\n",
       "      <td>11.0</td>\n",
       "      <td>6</td>\n",
       "      <td>1</td>\n",
       "    </tr>\n",
       "  </tbody>\n",
       "</table>\n",
       "<p>4931 rows × 13 columns</p>\n",
       "</div>"
      ],
      "text/plain": [
       "      fixed acidity  volatile acidity  citric acid  residual sugar  chlorides  \\\n",
       "0               7.0             0.270         0.36            20.7      0.045   \n",
       "1               6.3             0.300         0.34             1.6      0.049   \n",
       "2               8.1             0.280         0.40             6.9      0.050   \n",
       "3               7.2             0.230         0.32             8.5      0.058   \n",
       "4               6.2             0.320         0.16             7.0      0.045   \n",
       "...             ...               ...          ...             ...        ...   \n",
       "4926            6.8             0.620         0.08             1.9      0.068   \n",
       "4927            6.2             0.600         0.08             2.0      0.090   \n",
       "4928            5.9             0.550         0.10             2.2      0.062   \n",
       "4929            5.9             0.645         0.12             2.0      0.075   \n",
       "4930            6.0             0.310         0.47             3.6      0.067   \n",
       "\n",
       "      free sulfur dioxide  total sulfur dioxide  density    pH  sulphates  \\\n",
       "0                    45.0                 170.0  1.00100  3.00       0.45   \n",
       "1                    14.0                 132.0  0.99400  3.30       0.49   \n",
       "2                    30.0                  97.0  0.99510  3.26       0.44   \n",
       "3                    47.0                 186.0  0.99560  3.19       0.40   \n",
       "4                    30.0                 136.0  0.99490  3.18       0.47   \n",
       "...                   ...                   ...      ...   ...        ...   \n",
       "4926                 28.0                  38.0  0.99651  3.42       0.82   \n",
       "4927                 32.0                  44.0  0.99490  3.45       0.58   \n",
       "4928                 39.0                  51.0  0.99512  3.52       0.76   \n",
       "4929                 32.0                  44.0  0.99547  3.57       0.71   \n",
       "4930                 18.0                  42.0  0.99549  3.39       0.66   \n",
       "\n",
       "      alcohol  quality  is_red  \n",
       "0         8.8        6       0  \n",
       "1         9.5        6       0  \n",
       "2        10.1        6       0  \n",
       "3         9.9        6       0  \n",
       "4         9.6        6       0  \n",
       "...       ...      ...     ...  \n",
       "4926      9.5        6       1  \n",
       "4927     10.5        5       1  \n",
       "4928     11.2        6       1  \n",
       "4929     10.2        5       1  \n",
       "4930     11.0        6       1  \n",
       "\n",
       "[4931 rows x 13 columns]"
      ]
     },
     "execution_count": 87,
     "metadata": {},
     "output_type": "execute_result"
    }
   ],
   "source": [
    "wine=wine[(wine['quality']>4) & (wine['quality'] < 8)]\n",
    "wine.reset_index(drop=True)"
   ]
  },
  {
   "cell_type": "code",
   "execution_count": 88,
   "id": "4d8349be",
   "metadata": {
    "pycharm": {
     "name": "#%%\n"
    }
   },
   "outputs": [
    {
     "data": {
      "text/plain": [
       "<AxesSubplot:>"
      ]
     },
     "execution_count": 88,
     "metadata": {},
     "output_type": "execute_result"
    },
    {
     "data": {
      "image/png": "[encoded data removed]",
      "text/plain": [
       "<Figure size 432x288 with 1 Axes>"
      ]
     },
     "metadata": {
      "needs_background": "light"
     },
     "output_type": "display_data"
    }
   ],
   "source": [
    "wine['quality'].hist(bins=30)"
   ]
  },
  {
   "cell_type": "markdown",
   "id": "517ed0b2",
   "metadata": {
    "pycharm": {
     "name": "#%% md\n"
    }
   },
   "source": [
    "# split dataset to train, val and test sets"
   ]
  },
  {
   "cell_type": "code",
   "execution_count": 89,
   "id": "f7bbd412",
   "metadata": {
    "pycharm": {
     "name": "#%%\n"
    }
   },
   "outputs": [],
   "source": [
    "train, test=train_test_split(wine, test_size=0.2, random_state=1)\n",
    "train, val=train_test_split(train, test_size=0.2, random_state=1)"
   ]
  },
  {
   "cell_type": "markdown",
   "id": "a067db2d",
   "metadata": {
    "pycharm": {
     "name": "#%% md\n"
    }
   },
   "source": [
    "# Data description"
   ]
  },
  {
   "cell_type": "code",
   "execution_count": 90,
   "id": "d75eed42",
   "metadata": {
    "pycharm": {
     "name": "#%%\n"
    }
   },
   "outputs": [
    {
     "data": {
      "text/html": [
       "<div>\n",
       "<style scoped>\n",
       "    .dataframe tbody tr th:only-of-type {\n",
       "        vertical-align: middle;\n",
       "    }\n",
       "\n",
       "    .dataframe tbody tr th {\n",
       "        vertical-align: top;\n",
       "    }\n",
       "\n",
       "    .dataframe thead th {\n",
       "        text-align: right;\n",
       "    }\n",
       "</style>\n",
       "<table border=\"1\" class=\"dataframe\">\n",
       "  <thead>\n",
       "    <tr style=\"text-align: right;\">\n",
       "      <th></th>\n",
       "      <th>count</th>\n",
       "      <th>mean</th>\n",
       "      <th>std</th>\n",
       "      <th>min</th>\n",
       "      <th>25%</th>\n",
       "      <th>50%</th>\n",
       "      <th>75%</th>\n",
       "      <th>max</th>\n",
       "    </tr>\n",
       "  </thead>\n",
       "  <tbody>\n",
       "    <tr>\n",
       "      <th>fixed acidity</th>\n",
       "      <td>3155.0</td>\n",
       "      <td>7.218558</td>\n",
       "      <td>1.298609</td>\n",
       "      <td>3.80000</td>\n",
       "      <td>6.4000</td>\n",
       "      <td>7.0000</td>\n",
       "      <td>7.7000</td>\n",
       "      <td>15.60000</td>\n",
       "    </tr>\n",
       "    <tr>\n",
       "      <th>volatile acidity</th>\n",
       "      <td>3155.0</td>\n",
       "      <td>0.339976</td>\n",
       "      <td>0.164326</td>\n",
       "      <td>0.08000</td>\n",
       "      <td>0.2300</td>\n",
       "      <td>0.2900</td>\n",
       "      <td>0.4100</td>\n",
       "      <td>1.33000</td>\n",
       "    </tr>\n",
       "    <tr>\n",
       "      <th>citric acid</th>\n",
       "      <td>3155.0</td>\n",
       "      <td>0.321062</td>\n",
       "      <td>0.148083</td>\n",
       "      <td>0.00000</td>\n",
       "      <td>0.2500</td>\n",
       "      <td>0.3100</td>\n",
       "      <td>0.4000</td>\n",
       "      <td>1.66000</td>\n",
       "    </tr>\n",
       "    <tr>\n",
       "      <th>residual sugar</th>\n",
       "      <td>3155.0</td>\n",
       "      <td>5.128241</td>\n",
       "      <td>4.570110</td>\n",
       "      <td>0.60000</td>\n",
       "      <td>1.8000</td>\n",
       "      <td>2.8000</td>\n",
       "      <td>7.7000</td>\n",
       "      <td>65.80000</td>\n",
       "    </tr>\n",
       "    <tr>\n",
       "      <th>chlorides</th>\n",
       "      <td>3155.0</td>\n",
       "      <td>0.056971</td>\n",
       "      <td>0.037610</td>\n",
       "      <td>0.01400</td>\n",
       "      <td>0.0380</td>\n",
       "      <td>0.0470</td>\n",
       "      <td>0.0670</td>\n",
       "      <td>0.61100</td>\n",
       "    </tr>\n",
       "    <tr>\n",
       "      <th>free sulfur dioxide</th>\n",
       "      <td>3155.0</td>\n",
       "      <td>30.413946</td>\n",
       "      <td>17.179817</td>\n",
       "      <td>1.00000</td>\n",
       "      <td>17.0000</td>\n",
       "      <td>29.0000</td>\n",
       "      <td>41.0000</td>\n",
       "      <td>128.00000</td>\n",
       "    </tr>\n",
       "    <tr>\n",
       "      <th>total sulfur dioxide</th>\n",
       "      <td>3155.0</td>\n",
       "      <td>114.707132</td>\n",
       "      <td>56.189167</td>\n",
       "      <td>6.00000</td>\n",
       "      <td>75.0000</td>\n",
       "      <td>117.0000</td>\n",
       "      <td>153.0000</td>\n",
       "      <td>344.00000</td>\n",
       "    </tr>\n",
       "    <tr>\n",
       "      <th>density</th>\n",
       "      <td>3155.0</td>\n",
       "      <td>0.994580</td>\n",
       "      <td>0.002988</td>\n",
       "      <td>0.98722</td>\n",
       "      <td>0.9922</td>\n",
       "      <td>0.9948</td>\n",
       "      <td>0.9968</td>\n",
       "      <td>1.03898</td>\n",
       "    </tr>\n",
       "    <tr>\n",
       "      <th>pH</th>\n",
       "      <td>3155.0</td>\n",
       "      <td>3.221300</td>\n",
       "      <td>0.158116</td>\n",
       "      <td>2.72000</td>\n",
       "      <td>3.1100</td>\n",
       "      <td>3.2100</td>\n",
       "      <td>3.3200</td>\n",
       "      <td>3.90000</td>\n",
       "    </tr>\n",
       "    <tr>\n",
       "      <th>sulphates</th>\n",
       "      <td>3155.0</td>\n",
       "      <td>0.536662</td>\n",
       "      <td>0.150296</td>\n",
       "      <td>0.22000</td>\n",
       "      <td>0.4400</td>\n",
       "      <td>0.5100</td>\n",
       "      <td>0.6000</td>\n",
       "      <td>1.98000</td>\n",
       "    </tr>\n",
       "    <tr>\n",
       "      <th>alcohol</th>\n",
       "      <td>3155.0</td>\n",
       "      <td>10.536750</td>\n",
       "      <td>1.173571</td>\n",
       "      <td>8.00000</td>\n",
       "      <td>9.5000</td>\n",
       "      <td>10.4000</td>\n",
       "      <td>11.3000</td>\n",
       "      <td>14.20000</td>\n",
       "    </tr>\n",
       "  </tbody>\n",
       "</table>\n",
       "</div>"
      ],
      "text/plain": [
       "                       count        mean        std      min      25%  \\\n",
       "fixed acidity         3155.0    7.218558   1.298609  3.80000   6.4000   \n",
       "volatile acidity      3155.0    0.339976   0.164326  0.08000   0.2300   \n",
       "citric acid           3155.0    0.321062   0.148083  0.00000   0.2500   \n",
       "residual sugar        3155.0    5.128241   4.570110  0.60000   1.8000   \n",
       "chlorides             3155.0    0.056971   0.037610  0.01400   0.0380   \n",
       "free sulfur dioxide   3155.0   30.413946  17.179817  1.00000  17.0000   \n",
       "total sulfur dioxide  3155.0  114.707132  56.189167  6.00000  75.0000   \n",
       "density               3155.0    0.994580   0.002988  0.98722   0.9922   \n",
       "pH                    3155.0    3.221300   0.158116  2.72000   3.1100   \n",
       "sulphates             3155.0    0.536662   0.150296  0.22000   0.4400   \n",
       "alcohol               3155.0   10.536750   1.173571  8.00000   9.5000   \n",
       "\n",
       "                           50%       75%        max  \n",
       "fixed acidity           7.0000    7.7000   15.60000  \n",
       "volatile acidity        0.2900    0.4100    1.33000  \n",
       "citric acid             0.3100    0.4000    1.66000  \n",
       "residual sugar          2.8000    7.7000   65.80000  \n",
       "chlorides               0.0470    0.0670    0.61100  \n",
       "free sulfur dioxide    29.0000   41.0000  128.00000  \n",
       "total sulfur dioxide  117.0000  153.0000  344.00000  \n",
       "density                 0.9948    0.9968    1.03898  \n",
       "pH                      3.2100    3.3200    3.90000  \n",
       "sulphates               0.5100    0.6000    1.98000  \n",
       "alcohol                10.4000   11.3000   14.20000  "
      ]
     },
     "execution_count": 90,
     "metadata": {},
     "output_type": "execute_result"
    }
   ],
   "source": [
    "wine_stat=train.describe()\n",
    "wine_stat.pop('is_red')\n",
    "wine_stat.pop('quality')\n",
    "wine_stat=wine_stat.transpose()\n",
    "wine_stat"
   ]
  },
  {
   "cell_type": "markdown",
   "id": "b0752ce5",
   "metadata": {
    "pycharm": {
     "name": "#%% md\n"
    }
   },
   "source": [
    "# Format model outputs"
   ]
  },
  {
   "cell_type": "code",
   "execution_count": 91,
   "id": "4e5cc914",
   "metadata": {
    "pycharm": {
     "name": "#%%\n"
    }
   },
   "outputs": [],
   "source": [
    "def get_output(data):\n",
    "    is_red=data.pop('is_red')\n",
    "    is_red=np.array(is_red)\n",
    "    quality=data.pop('quality')\n",
    "    quality=np.array(quality)\n",
    "    return (quality, is_red)"
   ]
  },
  {
   "cell_type": "code",
   "execution_count": 92,
   "id": "60703ba3",
   "metadata": {
    "pycharm": {
     "name": "#%%\n"
    }
   },
   "outputs": [],
   "source": [
    "train_y=get_output(train)\n",
    "val_y=get_output(val)\n",
    "test_y=get_output(test)"
   ]
  },
  {
   "cell_type": "markdown",
   "id": "b469eba3",
   "metadata": {
    "pycharm": {
     "name": "#%% md\n"
    }
   },
   "source": [
    "# Normalize the dataset"
   ]
  },
  {
   "cell_type": "code",
   "execution_count": 93,
   "id": "9a3f8ec7",
   "metadata": {
    "pycharm": {
     "name": "#%%\n"
    }
   },
   "outputs": [],
   "source": [
    "def norm(x):\n",
    "    return (x - wine_stat['mean']) / wine_stat['std'] \n"
   ]
  },
  {
   "cell_type": "code",
   "execution_count": 94,
   "id": "67f335a3",
   "metadata": {
    "pycharm": {
     "name": "#%%\n"
    }
   },
   "outputs": [],
   "source": [
    "train_normalized=norm(train)\n",
    "val_normalize=norm(val)\n",
    "test_normalized=norm(test)"
   ]
  },
  {
   "cell_type": "markdown",
   "id": "d3ae999e",
   "metadata": {
    "pycharm": {
     "name": "#%% md\n"
    }
   },
   "source": [
    "# Model"
   ]
  },
  {
   "cell_type": "code",
   "execution_count": 95,
   "id": "2d675983",
   "metadata": {
    "pycharm": {
     "name": "#%%\n"
    }
   },
   "outputs": [],
   "source": [
    "\n",
    "def final_model(train_data):\n",
    "    shape=len(test_normalized.columns)\n",
    "    Input_layer=Input(shape=(shape,))\n",
    "    x=Dense(128, activation='relu')(Input_layer)\n",
    "    x=Dense(128, activation='relu')(x)\n",
    "    wine_quality=Dense(1, name='wine_quality')(x)\n",
    "    wine_type=Dense(1, activation='sigmoid', name='wine_type')(x)\n",
    "   \n",
    "    model = Model(inputs=Input_layer, outputs=[wine_quality, wine_type])\n",
    "    return model\n",
    "    \n",
    "   "
   ]
  },
  {
   "cell_type": "code",
   "execution_count": 96,
   "id": "c91e386c",
   "metadata": {
    "pycharm": {
     "name": "#%%\n"
    }
   },
   "outputs": [
    {
     "name": "stdout",
     "output_type": "stream",
     "text": [
      "Model: \"model_5\"\n",
      "__________________________________________________________________________________________________\n",
      " Layer (type)                   Output Shape         Param #     Connected to                     \n",
      "==================================================================================================\n",
      " input_6 (InputLayer)           [(None, 11)]         0           []                               \n",
      "                                                                                                  \n",
      " dense_10 (Dense)               (None, 128)          1536        ['input_6[0][0]']                \n",
      "                                                                                                  \n",
      " dense_11 (Dense)               (None, 128)          16512       ['dense_10[0][0]']               \n",
      "                                                                                                  \n",
      " wine_quality (Dense)           (None, 1)            129         ['dense_11[0][0]']               \n",
      "                                                                                                  \n",
      " wine_type (Dense)              (None, 1)            129         ['dense_11[0][0]']               \n",
      "                                                                                                  \n",
      "==================================================================================================\n",
      "Total params: 18,306\n",
      "Trainable params: 18,306\n",
      "Non-trainable params: 0\n",
      "__________________________________________________________________________________________________\n"
     ]
    }
   ],
   "source": [
    "model=final_model(train_normalized)\n",
    "model.summary()"
   ]
  },
  {
   "cell_type": "code",
   "execution_count": 97,
   "id": "d4e91844",
   "metadata": {
    "pycharm": {
     "name": "#%%\n"
    }
   },
   "outputs": [],
   "source": [
    "rms = tf.keras.optimizers.RMSprop(learning_rate=0.0001)\n",
    "model.compile(optimizer=rms, \n",
    "              loss = {'wine_type' : 'binary_crossentropy', # YOUR CODE HERE,\n",
    "                      'wine_quality' : 'mse' # YOUR CODE HERE\n",
    "                     },\n",
    "              metrics = {'wine_type' : 'accuracy', # YOUR CODE HERE,\n",
    "                         'wine_quality': tf.keras.metrics.RootMeanSquaredError() # YOUR CODE HERE\n",
    "                       }\n",
    "             )"
   ]
  },
  {
   "cell_type": "code",
   "execution_count": 98,
   "id": "d2f6316c",
   "metadata": {
    "pycharm": {
     "name": "#%%\n"
    }
   },
   "outputs": [
    {
     "name": "stdout",
     "output_type": "stream",
     "text": [
      "Epoch 1/180\n",
      "99/99 [==============================] - 1s 4ms/step - loss: 24.9934 - wine_quality_loss: 24.3698 - wine_type_loss: 0.6236 - wine_quality_root_mean_squared_error: 4.9366 - wine_type_accuracy: 0.7211 - val_loss: 16.7197 - val_wine_quality_loss: 16.1198 - val_wine_type_loss: 0.5998 - val_wine_quality_root_mean_squared_error: 4.0150 - val_wine_type_accuracy: 0.7338\n",
      "Epoch 2/180\n",
      "99/99 [==============================] - 0s 2ms/step - loss: 10.6691 - wine_quality_loss: 10.0972 - wine_type_loss: 0.5719 - wine_quality_root_mean_squared_error: 3.1776 - wine_type_accuracy: 0.7426 - val_loss: 5.7547 - val_wine_quality_loss: 5.2122 - val_wine_type_loss: 0.5424 - val_wine_quality_root_mean_squared_error: 2.2830 - val_wine_type_accuracy: 0.7364\n",
      "Epoch 3/180\n",
      "99/99 [==============================] - 0s 2ms/step - loss: 4.0886 - wine_quality_loss: 3.5937 - wine_type_loss: 0.4949 - wine_quality_root_mean_squared_error: 1.8957 - wine_type_accuracy: 0.7442 - val_loss: 2.7473 - val_wine_quality_loss: 2.3021 - val_wine_type_loss: 0.4452 - val_wine_quality_root_mean_squared_error: 1.5173 - val_wine_type_accuracy: 0.7440\n",
      "Epoch 4/180\n",
      "99/99 [==============================] - 0s 1ms/step - loss: 2.7394 - wine_quality_loss: 2.3389 - wine_type_loss: 0.4005 - wine_quality_root_mean_squared_error: 1.5293 - wine_type_accuracy: 0.7924 - val_loss: 2.1778 - val_wine_quality_loss: 1.8195 - val_wine_type_loss: 0.3582 - val_wine_quality_root_mean_squared_error: 1.3489 - val_wine_type_accuracy: 0.8530\n",
      "Epoch 5/180\n",
      "99/99 [==============================] - 0s 2ms/step - loss: 2.2631 - wine_quality_loss: 1.9392 - wine_type_loss: 0.3239 - wine_quality_root_mean_squared_error: 1.3926 - wine_type_accuracy: 0.8973 - val_loss: 1.8760 - val_wine_quality_loss: 1.5824 - val_wine_type_loss: 0.2936 - val_wine_quality_root_mean_squared_error: 1.2580 - val_wine_type_accuracy: 0.9379\n",
      "Epoch 6/180\n",
      "99/99 [==============================] - 0s 2ms/step - loss: 1.9698 - wine_quality_loss: 1.7084 - wine_type_loss: 0.2614 - wine_quality_root_mean_squared_error: 1.3071 - wine_type_accuracy: 0.9512 - val_loss: 1.6537 - val_wine_quality_loss: 1.4169 - val_wine_type_loss: 0.2368 - val_wine_quality_root_mean_squared_error: 1.1903 - val_wine_type_accuracy: 0.9810\n",
      "Epoch 7/180\n",
      "99/99 [==============================] - 0s 2ms/step - loss: 1.7415 - wine_quality_loss: 1.5331 - wine_type_loss: 0.2085 - wine_quality_root_mean_squared_error: 1.2382 - wine_type_accuracy: 0.9794 - val_loss: 1.4937 - val_wine_quality_loss: 1.3028 - val_wine_type_loss: 0.1909 - val_wine_quality_root_mean_squared_error: 1.1414 - val_wine_type_accuracy: 0.9873\n",
      "Epoch 8/180\n",
      "99/99 [==============================] - 0s 2ms/step - loss: 1.5726 - wine_quality_loss: 1.4041 - wine_type_loss: 0.1685 - wine_quality_root_mean_squared_error: 1.1850 - wine_type_accuracy: 0.9864 - val_loss: 1.3640 - val_wine_quality_loss: 1.2060 - val_wine_type_loss: 0.1580 - val_wine_quality_root_mean_squared_error: 1.0982 - val_wine_type_accuracy: 0.9861\n",
      "Epoch 9/180\n",
      "99/99 [==============================] - 0s 2ms/step - loss: 1.4384 - wine_quality_loss: 1.2988 - wine_type_loss: 0.1396 - wine_quality_root_mean_squared_error: 1.1396 - wine_type_accuracy: 0.9899 - val_loss: 1.2565 - val_wine_quality_loss: 1.1239 - val_wine_type_loss: 0.1326 - val_wine_quality_root_mean_squared_error: 1.0601 - val_wine_type_accuracy: 0.9899\n",
      "Epoch 10/180\n",
      "99/99 [==============================] - 0s 2ms/step - loss: 1.3208 - wine_quality_loss: 1.2043 - wine_type_loss: 0.1165 - wine_quality_root_mean_squared_error: 1.0974 - wine_type_accuracy: 0.9911 - val_loss: 1.1666 - val_wine_quality_loss: 1.0529 - val_wine_type_loss: 0.1137 - val_wine_quality_root_mean_squared_error: 1.0261 - val_wine_type_accuracy: 0.9911\n",
      "Epoch 11/180\n",
      "99/99 [==============================] - 0s 2ms/step - loss: 1.2175 - wine_quality_loss: 1.1188 - wine_type_loss: 0.0987 - wine_quality_root_mean_squared_error: 1.0577 - wine_type_accuracy: 0.9924 - val_loss: 1.0797 - val_wine_quality_loss: 0.9800 - val_wine_type_loss: 0.0997 - val_wine_quality_root_mean_squared_error: 0.9900 - val_wine_type_accuracy: 0.9911\n",
      "Epoch 12/180\n",
      "99/99 [==============================] - 0s 2ms/step - loss: 1.1234 - wine_quality_loss: 1.0377 - wine_type_loss: 0.0857 - wine_quality_root_mean_squared_error: 1.0187 - wine_type_accuracy: 0.9927 - val_loss: 1.0127 - val_wine_quality_loss: 0.9230 - val_wine_type_loss: 0.0897 - val_wine_quality_root_mean_squared_error: 0.9607 - val_wine_type_accuracy: 0.9911\n",
      "Epoch 13/180\n",
      "99/99 [==============================] - 0s 2ms/step - loss: 1.0460 - wine_quality_loss: 0.9703 - wine_type_loss: 0.0756 - wine_quality_root_mean_squared_error: 0.9851 - wine_type_accuracy: 0.9933 - val_loss: 0.9594 - val_wine_quality_loss: 0.8771 - val_wine_type_loss: 0.0823 - val_wine_quality_root_mean_squared_error: 0.9365 - val_wine_type_accuracy: 0.9911\n",
      "Epoch 14/180\n",
      "99/99 [==============================] - 0s 2ms/step - loss: 0.9784 - wine_quality_loss: 0.9106 - wine_type_loss: 0.0678 - wine_quality_root_mean_squared_error: 0.9543 - wine_type_accuracy: 0.9930 - val_loss: 0.9011 - val_wine_quality_loss: 0.8254 - val_wine_type_loss: 0.0757 - val_wine_quality_root_mean_squared_error: 0.9085 - val_wine_type_accuracy: 0.9911\n",
      "Epoch 15/180\n",
      "99/99 [==============================] - 0s 2ms/step - loss: 0.9102 - wine_quality_loss: 0.8488 - wine_type_loss: 0.0614 - wine_quality_root_mean_squared_error: 0.9213 - wine_type_accuracy: 0.9930 - val_loss: 0.8445 - val_wine_quality_loss: 0.7736 - val_wine_type_loss: 0.0708 - val_wine_quality_root_mean_squared_error: 0.8796 - val_wine_type_accuracy: 0.9911\n",
      "Epoch 16/180\n",
      "99/99 [==============================] - 0s 2ms/step - loss: 0.8523 - wine_quality_loss: 0.7962 - wine_type_loss: 0.0561 - wine_quality_root_mean_squared_error: 0.8923 - wine_type_accuracy: 0.9930 - val_loss: 0.7964 - val_wine_quality_loss: 0.7293 - val_wine_type_loss: 0.0671 - val_wine_quality_root_mean_squared_error: 0.8540 - val_wine_type_accuracy: 0.9924\n",
      "Epoch 17/180\n",
      "99/99 [==============================] - 0s 2ms/step - loss: 0.8006 - wine_quality_loss: 0.7485 - wine_type_loss: 0.0521 - wine_quality_root_mean_squared_error: 0.8651 - wine_type_accuracy: 0.9937 - val_loss: 0.7541 - val_wine_quality_loss: 0.6901 - val_wine_type_loss: 0.0640 - val_wine_quality_root_mean_squared_error: 0.8307 - val_wine_type_accuracy: 0.9924\n",
      "Epoch 18/180\n",
      "99/99 [==============================] - 0s 2ms/step - loss: 0.7519 - wine_quality_loss: 0.7032 - wine_type_loss: 0.0487 - wine_quality_root_mean_squared_error: 0.8386 - wine_type_accuracy: 0.9940 - val_loss: 0.7170 - val_wine_quality_loss: 0.6553 - val_wine_type_loss: 0.0617 - val_wine_quality_root_mean_squared_error: 0.8095 - val_wine_type_accuracy: 0.9924\n",
      "Epoch 19/180\n",
      "99/99 [==============================] - 0s 2ms/step - loss: 0.7075 - wine_quality_loss: 0.6617 - wine_type_loss: 0.0458 - wine_quality_root_mean_squared_error: 0.8134 - wine_type_accuracy: 0.9940 - val_loss: 0.6851 - val_wine_quality_loss: 0.6254 - val_wine_type_loss: 0.0597 - val_wine_quality_root_mean_squared_error: 0.7908 - val_wine_type_accuracy: 0.9924\n",
      "Epoch 20/180\n",
      "99/99 [==============================] - 0s 2ms/step - loss: 0.6711 - wine_quality_loss: 0.6277 - wine_type_loss: 0.0434 - wine_quality_root_mean_squared_error: 0.7923 - wine_type_accuracy: 0.9940 - val_loss: 0.6535 - val_wine_quality_loss: 0.5953 - val_wine_type_loss: 0.0582 - val_wine_quality_root_mean_squared_error: 0.7716 - val_wine_type_accuracy: 0.9924\n",
      "Epoch 21/180\n",
      "99/99 [==============================] - 0s 2ms/step - loss: 0.6342 - wine_quality_loss: 0.5929 - wine_type_loss: 0.0413 - wine_quality_root_mean_squared_error: 0.7700 - wine_type_accuracy: 0.9943 - val_loss: 0.6276 - val_wine_quality_loss: 0.5710 - val_wine_type_loss: 0.0566 - val_wine_quality_root_mean_squared_error: 0.7556 - val_wine_type_accuracy: 0.9924\n",
      "Epoch 22/180\n",
      "99/99 [==============================] - 0s 2ms/step - loss: 0.6023 - wine_quality_loss: 0.5628 - wine_type_loss: 0.0395 - wine_quality_root_mean_squared_error: 0.7502 - wine_type_accuracy: 0.9943 - val_loss: 0.6017 - val_wine_quality_loss: 0.5460 - val_wine_type_loss: 0.0557 - val_wine_quality_root_mean_squared_error: 0.7389 - val_wine_type_accuracy: 0.9924\n",
      "Epoch 23/180\n",
      "99/99 [==============================] - 0s 2ms/step - loss: 0.5727 - wine_quality_loss: 0.5347 - wine_type_loss: 0.0380 - wine_quality_root_mean_squared_error: 0.7312 - wine_type_accuracy: 0.9946 - val_loss: 0.5784 - val_wine_quality_loss: 0.5237 - val_wine_type_loss: 0.0547 - val_wine_quality_root_mean_squared_error: 0.7237 - val_wine_type_accuracy: 0.9924\n",
      "Epoch 24/180\n",
      "99/99 [==============================] - 0s 2ms/step - loss: 0.5454 - wine_quality_loss: 0.5087 - wine_type_loss: 0.0366 - wine_quality_root_mean_squared_error: 0.7133 - wine_type_accuracy: 0.9946 - val_loss: 0.5549 - val_wine_quality_loss: 0.5011 - val_wine_type_loss: 0.0538 - val_wine_quality_root_mean_squared_error: 0.7079 - val_wine_type_accuracy: 0.9924\n",
      "Epoch 25/180\n",
      "99/99 [==============================] - 0s 2ms/step - loss: 0.5205 - wine_quality_loss: 0.4851 - wine_type_loss: 0.0353 - wine_quality_root_mean_squared_error: 0.6965 - wine_type_accuracy: 0.9952 - val_loss: 0.5371 - val_wine_quality_loss: 0.4840 - val_wine_type_loss: 0.0531 - val_wine_quality_root_mean_squared_error: 0.6957 - val_wine_type_accuracy: 0.9924\n",
      "Epoch 26/180\n",
      "99/99 [==============================] - 0s 2ms/step - loss: 0.4978 - wine_quality_loss: 0.4635 - wine_type_loss: 0.0343 - wine_quality_root_mean_squared_error: 0.6808 - wine_type_accuracy: 0.9949 - val_loss: 0.5205 - val_wine_quality_loss: 0.4681 - val_wine_type_loss: 0.0524 - val_wine_quality_root_mean_squared_error: 0.6841 - val_wine_type_accuracy: 0.9924\n",
      "Epoch 27/180\n",
      "99/99 [==============================] - 0s 2ms/step - loss: 0.4770 - wine_quality_loss: 0.4436 - wine_type_loss: 0.0333 - wine_quality_root_mean_squared_error: 0.6661 - wine_type_accuracy: 0.9956 - val_loss: 0.5054 - val_wine_quality_loss: 0.4535 - val_wine_type_loss: 0.0519 - val_wine_quality_root_mean_squared_error: 0.6734 - val_wine_type_accuracy: 0.9937\n",
      "Epoch 28/180\n",
      "99/99 [==============================] - 0s 2ms/step - loss: 0.4589 - wine_quality_loss: 0.4264 - wine_type_loss: 0.0325 - wine_quality_root_mean_squared_error: 0.6530 - wine_type_accuracy: 0.9956 - val_loss: 0.4916 - val_wine_quality_loss: 0.4401 - val_wine_type_loss: 0.0516 - val_wine_quality_root_mean_squared_error: 0.6634 - val_wine_type_accuracy: 0.9937\n",
      "Epoch 29/180\n",
      "99/99 [==============================] - 0s 2ms/step - loss: 0.4445 - wine_quality_loss: 0.4127 - wine_type_loss: 0.0318 - wine_quality_root_mean_squared_error: 0.6424 - wine_type_accuracy: 0.9959 - val_loss: 0.4786 - val_wine_quality_loss: 0.4274 - val_wine_type_loss: 0.0512 - val_wine_quality_root_mean_squared_error: 0.6537 - val_wine_type_accuracy: 0.9937\n",
      "Epoch 30/180\n",
      "99/99 [==============================] - 0s 2ms/step - loss: 0.4301 - wine_quality_loss: 0.3990 - wine_type_loss: 0.0311 - wine_quality_root_mean_squared_error: 0.6316 - wine_type_accuracy: 0.9959 - val_loss: 0.4675 - val_wine_quality_loss: 0.4168 - val_wine_type_loss: 0.0507 - val_wine_quality_root_mean_squared_error: 0.6456 - val_wine_type_accuracy: 0.9937\n",
      "Epoch 31/180\n",
      "99/99 [==============================] - 0s 2ms/step - loss: 0.4179 - wine_quality_loss: 0.3874 - wine_type_loss: 0.0305 - wine_quality_root_mean_squared_error: 0.6224 - wine_type_accuracy: 0.9959 - val_loss: 0.4604 - val_wine_quality_loss: 0.4098 - val_wine_type_loss: 0.0506 - val_wine_quality_root_mean_squared_error: 0.6402 - val_wine_type_accuracy: 0.9937\n",
      "Epoch 32/180\n",
      "99/99 [==============================] - 0s 2ms/step - loss: 0.4079 - wine_quality_loss: 0.3780 - wine_type_loss: 0.0299 - wine_quality_root_mean_squared_error: 0.6148 - wine_type_accuracy: 0.9956 - val_loss: 0.4542 - val_wine_quality_loss: 0.4041 - val_wine_type_loss: 0.0501 - val_wine_quality_root_mean_squared_error: 0.6357 - val_wine_type_accuracy: 0.9937\n",
      "Epoch 33/180\n",
      "99/99 [==============================] - 0s 2ms/step - loss: 0.3987 - wine_quality_loss: 0.3693 - wine_type_loss: 0.0294 - wine_quality_root_mean_squared_error: 0.6077 - wine_type_accuracy: 0.9959 - val_loss: 0.4459 - val_wine_quality_loss: 0.3959 - val_wine_type_loss: 0.0500 - val_wine_quality_root_mean_squared_error: 0.6292 - val_wine_type_accuracy: 0.9937\n",
      "Epoch 34/180\n",
      "99/99 [==============================] - 0s 2ms/step - loss: 0.3897 - wine_quality_loss: 0.3607 - wine_type_loss: 0.0290 - wine_quality_root_mean_squared_error: 0.6006 - wine_type_accuracy: 0.9959 - val_loss: 0.4438 - val_wine_quality_loss: 0.3940 - val_wine_type_loss: 0.0498 - val_wine_quality_root_mean_squared_error: 0.6277 - val_wine_type_accuracy: 0.9937\n",
      "Epoch 35/180\n",
      "99/99 [==============================] - 0s 2ms/step - loss: 0.3824 - wine_quality_loss: 0.3538 - wine_type_loss: 0.0287 - wine_quality_root_mean_squared_error: 0.5948 - wine_type_accuracy: 0.9956 - val_loss: 0.4365 - val_wine_quality_loss: 0.3869 - val_wine_type_loss: 0.0496 - val_wine_quality_root_mean_squared_error: 0.6220 - val_wine_type_accuracy: 0.9937\n",
      "Epoch 36/180\n",
      "99/99 [==============================] - 0s 2ms/step - loss: 0.3777 - wine_quality_loss: 0.3495 - wine_type_loss: 0.0282 - wine_quality_root_mean_squared_error: 0.5912 - wine_type_accuracy: 0.9952 - val_loss: 0.4310 - val_wine_quality_loss: 0.3815 - val_wine_type_loss: 0.0495 - val_wine_quality_root_mean_squared_error: 0.6177 - val_wine_type_accuracy: 0.9937\n",
      "Epoch 37/180\n",
      "99/99 [==============================] - 0s 2ms/step - loss: 0.3701 - wine_quality_loss: 0.3423 - wine_type_loss: 0.0279 - wine_quality_root_mean_squared_error: 0.5850 - wine_type_accuracy: 0.9956 - val_loss: 0.4364 - val_wine_quality_loss: 0.3870 - val_wine_type_loss: 0.0493 - val_wine_quality_root_mean_squared_error: 0.6221 - val_wine_type_accuracy: 0.9937\n",
      "Epoch 38/180\n",
      "99/99 [==============================] - 0s 2ms/step - loss: 0.3662 - wine_quality_loss: 0.3387 - wine_type_loss: 0.0275 - wine_quality_root_mean_squared_error: 0.5820 - wine_type_accuracy: 0.9956 - val_loss: 0.4241 - val_wine_quality_loss: 0.3750 - val_wine_type_loss: 0.0492 - val_wine_quality_root_mean_squared_error: 0.6123 - val_wine_type_accuracy: 0.9937\n",
      "Epoch 39/180\n",
      "99/99 [==============================] - 0s 1ms/step - loss: 0.3606 - wine_quality_loss: 0.3335 - wine_type_loss: 0.0271 - wine_quality_root_mean_squared_error: 0.5775 - wine_type_accuracy: 0.9952 - val_loss: 0.4202 - val_wine_quality_loss: 0.3710 - val_wine_type_loss: 0.0491 - val_wine_quality_root_mean_squared_error: 0.6091 - val_wine_type_accuracy: 0.9937\n",
      "Epoch 40/180\n",
      "99/99 [==============================] - 0s 2ms/step - loss: 0.3577 - wine_quality_loss: 0.3308 - wine_type_loss: 0.0269 - wine_quality_root_mean_squared_error: 0.5751 - wine_type_accuracy: 0.9956 - val_loss: 0.4186 - val_wine_quality_loss: 0.3696 - val_wine_type_loss: 0.0490 - val_wine_quality_root_mean_squared_error: 0.6079 - val_wine_type_accuracy: 0.9937\n",
      "Epoch 41/180\n",
      "99/99 [==============================] - 0s 2ms/step - loss: 0.3532 - wine_quality_loss: 0.3265 - wine_type_loss: 0.0266 - wine_quality_root_mean_squared_error: 0.5714 - wine_type_accuracy: 0.9952 - val_loss: 0.4184 - val_wine_quality_loss: 0.3695 - val_wine_type_loss: 0.0489 - val_wine_quality_root_mean_squared_error: 0.6079 - val_wine_type_accuracy: 0.9937\n",
      "Epoch 42/180\n",
      "99/99 [==============================] - 0s 1ms/step - loss: 0.3503 - wine_quality_loss: 0.3239 - wine_type_loss: 0.0264 - wine_quality_root_mean_squared_error: 0.5691 - wine_type_accuracy: 0.9959 - val_loss: 0.4184 - val_wine_quality_loss: 0.3695 - val_wine_type_loss: 0.0490 - val_wine_quality_root_mean_squared_error: 0.6079 - val_wine_type_accuracy: 0.9937\n",
      "Epoch 43/180\n",
      "99/99 [==============================] - 0s 1ms/step - loss: 0.3468 - wine_quality_loss: 0.3207 - wine_type_loss: 0.0261 - wine_quality_root_mean_squared_error: 0.5663 - wine_type_accuracy: 0.9956 - val_loss: 0.4141 - val_wine_quality_loss: 0.3653 - val_wine_type_loss: 0.0488 - val_wine_quality_root_mean_squared_error: 0.6044 - val_wine_type_accuracy: 0.9937\n",
      "Epoch 44/180\n",
      "99/99 [==============================] - 0s 2ms/step - loss: 0.3444 - wine_quality_loss: 0.3185 - wine_type_loss: 0.0259 - wine_quality_root_mean_squared_error: 0.5644 - wine_type_accuracy: 0.9956 - val_loss: 0.4104 - val_wine_quality_loss: 0.3616 - val_wine_type_loss: 0.0488 - val_wine_quality_root_mean_squared_error: 0.6013 - val_wine_type_accuracy: 0.9937\n",
      "Epoch 45/180\n",
      "99/99 [==============================] - 0s 2ms/step - loss: 0.3417 - wine_quality_loss: 0.3161 - wine_type_loss: 0.0256 - wine_quality_root_mean_squared_error: 0.5622 - wine_type_accuracy: 0.9956 - val_loss: 0.4130 - val_wine_quality_loss: 0.3644 - val_wine_type_loss: 0.0487 - val_wine_quality_root_mean_squared_error: 0.6036 - val_wine_type_accuracy: 0.9937\n",
      "Epoch 46/180\n",
      "99/99 [==============================] - 0s 2ms/step - loss: 0.3393 - wine_quality_loss: 0.3139 - wine_type_loss: 0.0254 - wine_quality_root_mean_squared_error: 0.5602 - wine_type_accuracy: 0.9959 - val_loss: 0.4148 - val_wine_quality_loss: 0.3660 - val_wine_type_loss: 0.0488 - val_wine_quality_root_mean_squared_error: 0.6050 - val_wine_type_accuracy: 0.9937\n",
      "Epoch 47/180\n",
      "99/99 [==============================] - 0s 1ms/step - loss: 0.3389 - wine_quality_loss: 0.3137 - wine_type_loss: 0.0252 - wine_quality_root_mean_squared_error: 0.5601 - wine_type_accuracy: 0.9959 - val_loss: 0.4080 - val_wine_quality_loss: 0.3592 - val_wine_type_loss: 0.0488 - val_wine_quality_root_mean_squared_error: 0.5993 - val_wine_type_accuracy: 0.9937\n",
      "Epoch 48/180\n",
      "99/99 [==============================] - 0s 2ms/step - loss: 0.3366 - wine_quality_loss: 0.3116 - wine_type_loss: 0.0251 - wine_quality_root_mean_squared_error: 0.5582 - wine_type_accuracy: 0.9962 - val_loss: 0.4141 - val_wine_quality_loss: 0.3655 - val_wine_type_loss: 0.0487 - val_wine_quality_root_mean_squared_error: 0.6045 - val_wine_type_accuracy: 0.9937\n",
      "Epoch 49/180\n",
      "99/99 [==============================] - 0s 2ms/step - loss: 0.3339 - wine_quality_loss: 0.3090 - wine_type_loss: 0.0249 - wine_quality_root_mean_squared_error: 0.5559 - wine_type_accuracy: 0.9956 - val_loss: 0.4121 - val_wine_quality_loss: 0.3634 - val_wine_type_loss: 0.0487 - val_wine_quality_root_mean_squared_error: 0.6028 - val_wine_type_accuracy: 0.9937\n",
      "Epoch 50/180\n",
      "99/99 [==============================] - 0s 2ms/step - loss: 0.3333 - wine_quality_loss: 0.3087 - wine_type_loss: 0.0246 - wine_quality_root_mean_squared_error: 0.5556 - wine_type_accuracy: 0.9959 - val_loss: 0.4087 - val_wine_quality_loss: 0.3599 - val_wine_type_loss: 0.0487 - val_wine_quality_root_mean_squared_error: 0.5999 - val_wine_type_accuracy: 0.9937\n",
      "Epoch 51/180\n",
      "99/99 [==============================] - 0s 1ms/step - loss: 0.3312 - wine_quality_loss: 0.3067 - wine_type_loss: 0.0245 - wine_quality_root_mean_squared_error: 0.5538 - wine_type_accuracy: 0.9962 - val_loss: 0.4105 - val_wine_quality_loss: 0.3619 - val_wine_type_loss: 0.0486 - val_wine_quality_root_mean_squared_error: 0.6016 - val_wine_type_accuracy: 0.9937\n",
      "Epoch 52/180\n",
      "99/99 [==============================] - 0s 1ms/step - loss: 0.3283 - wine_quality_loss: 0.3041 - wine_type_loss: 0.0242 - wine_quality_root_mean_squared_error: 0.5514 - wine_type_accuracy: 0.9959 - val_loss: 0.4070 - val_wine_quality_loss: 0.3585 - val_wine_type_loss: 0.0485 - val_wine_quality_root_mean_squared_error: 0.5988 - val_wine_type_accuracy: 0.9937\n",
      "Epoch 53/180\n",
      "99/99 [==============================] - 0s 2ms/step - loss: 0.3283 - wine_quality_loss: 0.3042 - wine_type_loss: 0.0241 - wine_quality_root_mean_squared_error: 0.5515 - wine_type_accuracy: 0.9962 - val_loss: 0.4018 - val_wine_quality_loss: 0.3534 - val_wine_type_loss: 0.0484 - val_wine_quality_root_mean_squared_error: 0.5944 - val_wine_type_accuracy: 0.9937\n",
      "Epoch 54/180\n",
      "99/99 [==============================] - 0s 1ms/step - loss: 0.3268 - wine_quality_loss: 0.3028 - wine_type_loss: 0.0239 - wine_quality_root_mean_squared_error: 0.5503 - wine_type_accuracy: 0.9959 - val_loss: 0.4013 - val_wine_quality_loss: 0.3529 - val_wine_type_loss: 0.0484 - val_wine_quality_root_mean_squared_error: 0.5941 - val_wine_type_accuracy: 0.9937\n",
      "Epoch 55/180\n",
      "99/99 [==============================] - 0s 2ms/step - loss: 0.3245 - wine_quality_loss: 0.3007 - wine_type_loss: 0.0237 - wine_quality_root_mean_squared_error: 0.5484 - wine_type_accuracy: 0.9962 - val_loss: 0.4125 - val_wine_quality_loss: 0.3639 - val_wine_type_loss: 0.0486 - val_wine_quality_root_mean_squared_error: 0.6032 - val_wine_type_accuracy: 0.9937\n",
      "Epoch 56/180\n",
      "99/99 [==============================] - 0s 2ms/step - loss: 0.3248 - wine_quality_loss: 0.3012 - wine_type_loss: 0.0236 - wine_quality_root_mean_squared_error: 0.5488 - wine_type_accuracy: 0.9965 - val_loss: 0.4062 - val_wine_quality_loss: 0.3578 - val_wine_type_loss: 0.0484 - val_wine_quality_root_mean_squared_error: 0.5982 - val_wine_type_accuracy: 0.9937\n",
      "Epoch 57/180\n",
      "99/99 [==============================] - 0s 2ms/step - loss: 0.3235 - wine_quality_loss: 0.3000 - wine_type_loss: 0.0235 - wine_quality_root_mean_squared_error: 0.5478 - wine_type_accuracy: 0.9965 - val_loss: 0.4012 - val_wine_quality_loss: 0.3529 - val_wine_type_loss: 0.0483 - val_wine_quality_root_mean_squared_error: 0.5941 - val_wine_type_accuracy: 0.9937\n",
      "Epoch 58/180\n",
      "99/99 [==============================] - 0s 2ms/step - loss: 0.3220 - wine_quality_loss: 0.2987 - wine_type_loss: 0.0233 - wine_quality_root_mean_squared_error: 0.5465 - wine_type_accuracy: 0.9962 - val_loss: 0.4001 - val_wine_quality_loss: 0.3519 - val_wine_type_loss: 0.0482 - val_wine_quality_root_mean_squared_error: 0.5932 - val_wine_type_accuracy: 0.9937\n",
      "Epoch 59/180\n",
      "99/99 [==============================] - 0s 1ms/step - loss: 0.3206 - wine_quality_loss: 0.2974 - wine_type_loss: 0.0232 - wine_quality_root_mean_squared_error: 0.5454 - wine_type_accuracy: 0.9962 - val_loss: 0.4067 - val_wine_quality_loss: 0.3587 - val_wine_type_loss: 0.0481 - val_wine_quality_root_mean_squared_error: 0.5989 - val_wine_type_accuracy: 0.9937\n",
      "Epoch 60/180\n",
      "99/99 [==============================] - 0s 2ms/step - loss: 0.3190 - wine_quality_loss: 0.2960 - wine_type_loss: 0.0230 - wine_quality_root_mean_squared_error: 0.5440 - wine_type_accuracy: 0.9965 - val_loss: 0.3988 - val_wine_quality_loss: 0.3507 - val_wine_type_loss: 0.0481 - val_wine_quality_root_mean_squared_error: 0.5922 - val_wine_type_accuracy: 0.9937\n",
      "Epoch 61/180\n",
      "99/99 [==============================] - 0s 2ms/step - loss: 0.3186 - wine_quality_loss: 0.2957 - wine_type_loss: 0.0229 - wine_quality_root_mean_squared_error: 0.5437 - wine_type_accuracy: 0.9962 - val_loss: 0.4011 - val_wine_quality_loss: 0.3531 - val_wine_type_loss: 0.0480 - val_wine_quality_root_mean_squared_error: 0.5942 - val_wine_type_accuracy: 0.9937\n",
      "Epoch 62/180\n",
      "99/99 [==============================] - 0s 2ms/step - loss: 0.3178 - wine_quality_loss: 0.2951 - wine_type_loss: 0.0228 - wine_quality_root_mean_squared_error: 0.5432 - wine_type_accuracy: 0.9965 - val_loss: 0.4007 - val_wine_quality_loss: 0.3528 - val_wine_type_loss: 0.0479 - val_wine_quality_root_mean_squared_error: 0.5940 - val_wine_type_accuracy: 0.9937\n",
      "Epoch 63/180\n",
      "99/99 [==============================] - 0s 1ms/step - loss: 0.3165 - wine_quality_loss: 0.2938 - wine_type_loss: 0.0227 - wine_quality_root_mean_squared_error: 0.5420 - wine_type_accuracy: 0.9965 - val_loss: 0.3993 - val_wine_quality_loss: 0.3513 - val_wine_type_loss: 0.0480 - val_wine_quality_root_mean_squared_error: 0.5927 - val_wine_type_accuracy: 0.9937\n",
      "Epoch 64/180\n",
      "99/99 [==============================] - 0s 2ms/step - loss: 0.3156 - wine_quality_loss: 0.2931 - wine_type_loss: 0.0225 - wine_quality_root_mean_squared_error: 0.5414 - wine_type_accuracy: 0.9965 - val_loss: 0.3956 - val_wine_quality_loss: 0.3476 - val_wine_type_loss: 0.0480 - val_wine_quality_root_mean_squared_error: 0.5896 - val_wine_type_accuracy: 0.9937\n",
      "Epoch 65/180\n",
      "99/99 [==============================] - 0s 1ms/step - loss: 0.3151 - wine_quality_loss: 0.2927 - wine_type_loss: 0.0224 - wine_quality_root_mean_squared_error: 0.5410 - wine_type_accuracy: 0.9965 - val_loss: 0.3946 - val_wine_quality_loss: 0.3466 - val_wine_type_loss: 0.0480 - val_wine_quality_root_mean_squared_error: 0.5887 - val_wine_type_accuracy: 0.9937\n",
      "Epoch 66/180\n",
      "99/99 [==============================] - 0s 2ms/step - loss: 0.3127 - wine_quality_loss: 0.2904 - wine_type_loss: 0.0223 - wine_quality_root_mean_squared_error: 0.5389 - wine_type_accuracy: 0.9965 - val_loss: 0.4077 - val_wine_quality_loss: 0.3597 - val_wine_type_loss: 0.0480 - val_wine_quality_root_mean_squared_error: 0.5998 - val_wine_type_accuracy: 0.9937\n",
      "Epoch 67/180\n",
      "99/99 [==============================] - 0s 2ms/step - loss: 0.3125 - wine_quality_loss: 0.2904 - wine_type_loss: 0.0221 - wine_quality_root_mean_squared_error: 0.5389 - wine_type_accuracy: 0.9965 - val_loss: 0.3947 - val_wine_quality_loss: 0.3468 - val_wine_type_loss: 0.0479 - val_wine_quality_root_mean_squared_error: 0.5889 - val_wine_type_accuracy: 0.9937\n",
      "Epoch 68/180\n",
      "99/99 [==============================] - 0s 2ms/step - loss: 0.3117 - wine_quality_loss: 0.2896 - wine_type_loss: 0.0221 - wine_quality_root_mean_squared_error: 0.5382 - wine_type_accuracy: 0.9965 - val_loss: 0.3990 - val_wine_quality_loss: 0.3511 - val_wine_type_loss: 0.0479 - val_wine_quality_root_mean_squared_error: 0.5925 - val_wine_type_accuracy: 0.9937\n",
      "Epoch 69/180\n",
      "99/99 [==============================] - 0s 1ms/step - loss: 0.3104 - wine_quality_loss: 0.2884 - wine_type_loss: 0.0220 - wine_quality_root_mean_squared_error: 0.5370 - wine_type_accuracy: 0.9965 - val_loss: 0.3987 - val_wine_quality_loss: 0.3509 - val_wine_type_loss: 0.0479 - val_wine_quality_root_mean_squared_error: 0.5923 - val_wine_type_accuracy: 0.9937\n",
      "Epoch 70/180\n",
      "99/99 [==============================] - 0s 2ms/step - loss: 0.3093 - wine_quality_loss: 0.2875 - wine_type_loss: 0.0218 - wine_quality_root_mean_squared_error: 0.5362 - wine_type_accuracy: 0.9965 - val_loss: 0.3950 - val_wine_quality_loss: 0.3471 - val_wine_type_loss: 0.0479 - val_wine_quality_root_mean_squared_error: 0.5892 - val_wine_type_accuracy: 0.9937\n",
      "Epoch 71/180\n",
      "99/99 [==============================] - 0s 1ms/step - loss: 0.3091 - wine_quality_loss: 0.2873 - wine_type_loss: 0.0218 - wine_quality_root_mean_squared_error: 0.5360 - wine_type_accuracy: 0.9965 - val_loss: 0.4004 - val_wine_quality_loss: 0.3525 - val_wine_type_loss: 0.0478 - val_wine_quality_root_mean_squared_error: 0.5938 - val_wine_type_accuracy: 0.9937\n",
      "Epoch 72/180\n",
      "99/99 [==============================] - 0s 2ms/step - loss: 0.3081 - wine_quality_loss: 0.2865 - wine_type_loss: 0.0216 - wine_quality_root_mean_squared_error: 0.5353 - wine_type_accuracy: 0.9965 - val_loss: 0.3976 - val_wine_quality_loss: 0.3498 - val_wine_type_loss: 0.0478 - val_wine_quality_root_mean_squared_error: 0.5914 - val_wine_type_accuracy: 0.9937\n",
      "Epoch 73/180\n",
      "99/99 [==============================] - 0s 1ms/step - loss: 0.3081 - wine_quality_loss: 0.2866 - wine_type_loss: 0.0215 - wine_quality_root_mean_squared_error: 0.5353 - wine_type_accuracy: 0.9968 - val_loss: 0.3905 - val_wine_quality_loss: 0.3426 - val_wine_type_loss: 0.0478 - val_wine_quality_root_mean_squared_error: 0.5854 - val_wine_type_accuracy: 0.9937\n",
      "Epoch 74/180\n",
      "99/99 [==============================] - 0s 1ms/step - loss: 0.3075 - wine_quality_loss: 0.2861 - wine_type_loss: 0.0214 - wine_quality_root_mean_squared_error: 0.5349 - wine_type_accuracy: 0.9965 - val_loss: 0.3950 - val_wine_quality_loss: 0.3472 - val_wine_type_loss: 0.0478 - val_wine_quality_root_mean_squared_error: 0.5892 - val_wine_type_accuracy: 0.9937\n",
      "Epoch 75/180\n",
      "99/99 [==============================] - 0s 1ms/step - loss: 0.3050 - wine_quality_loss: 0.2837 - wine_type_loss: 0.0214 - wine_quality_root_mean_squared_error: 0.5326 - wine_type_accuracy: 0.9965 - val_loss: 0.3958 - val_wine_quality_loss: 0.3480 - val_wine_type_loss: 0.0478 - val_wine_quality_root_mean_squared_error: 0.5899 - val_wine_type_accuracy: 0.9937\n",
      "Epoch 76/180\n",
      "99/99 [==============================] - 0s 2ms/step - loss: 0.3051 - wine_quality_loss: 0.2839 - wine_type_loss: 0.0212 - wine_quality_root_mean_squared_error: 0.5328 - wine_type_accuracy: 0.9965 - val_loss: 0.3935 - val_wine_quality_loss: 0.3459 - val_wine_type_loss: 0.0476 - val_wine_quality_root_mean_squared_error: 0.5881 - val_wine_type_accuracy: 0.9937\n",
      "Epoch 77/180\n",
      "99/99 [==============================] - 0s 1ms/step - loss: 0.3047 - wine_quality_loss: 0.2836 - wine_type_loss: 0.0212 - wine_quality_root_mean_squared_error: 0.5325 - wine_type_accuracy: 0.9965 - val_loss: 0.3910 - val_wine_quality_loss: 0.3434 - val_wine_type_loss: 0.0476 - val_wine_quality_root_mean_squared_error: 0.5860 - val_wine_type_accuracy: 0.9937\n",
      "Epoch 78/180\n",
      "99/99 [==============================] - 0s 2ms/step - loss: 0.3042 - wine_quality_loss: 0.2832 - wine_type_loss: 0.0210 - wine_quality_root_mean_squared_error: 0.5321 - wine_type_accuracy: 0.9965 - val_loss: 0.3902 - val_wine_quality_loss: 0.3426 - val_wine_type_loss: 0.0476 - val_wine_quality_root_mean_squared_error: 0.5853 - val_wine_type_accuracy: 0.9937\n",
      "Epoch 79/180\n",
      "99/99 [==============================] - 0s 2ms/step - loss: 0.3031 - wine_quality_loss: 0.2822 - wine_type_loss: 0.0210 - wine_quality_root_mean_squared_error: 0.5312 - wine_type_accuracy: 0.9968 - val_loss: 0.4029 - val_wine_quality_loss: 0.3554 - val_wine_type_loss: 0.0474 - val_wine_quality_root_mean_squared_error: 0.5962 - val_wine_type_accuracy: 0.9937\n",
      "Epoch 80/180\n",
      "99/99 [==============================] - 0s 2ms/step - loss: 0.3015 - wine_quality_loss: 0.2807 - wine_type_loss: 0.0208 - wine_quality_root_mean_squared_error: 0.5298 - wine_type_accuracy: 0.9965 - val_loss: 0.3925 - val_wine_quality_loss: 0.3451 - val_wine_type_loss: 0.0475 - val_wine_quality_root_mean_squared_error: 0.5874 - val_wine_type_accuracy: 0.9937\n",
      "Epoch 81/180\n",
      "99/99 [==============================] - 0s 2ms/step - loss: 0.3008 - wine_quality_loss: 0.2801 - wine_type_loss: 0.0208 - wine_quality_root_mean_squared_error: 0.5292 - wine_type_accuracy: 0.9965 - val_loss: 0.3906 - val_wine_quality_loss: 0.3431 - val_wine_type_loss: 0.0474 - val_wine_quality_root_mean_squared_error: 0.5858 - val_wine_type_accuracy: 0.9937\n",
      "Epoch 82/180\n",
      "99/99 [==============================] - 0s 2ms/step - loss: 0.3010 - wine_quality_loss: 0.2804 - wine_type_loss: 0.0206 - wine_quality_root_mean_squared_error: 0.5295 - wine_type_accuracy: 0.9965 - val_loss: 0.3920 - val_wine_quality_loss: 0.3446 - val_wine_type_loss: 0.0474 - val_wine_quality_root_mean_squared_error: 0.5870 - val_wine_type_accuracy: 0.9937\n",
      "Epoch 83/180\n",
      "99/99 [==============================] - 0s 2ms/step - loss: 0.3001 - wine_quality_loss: 0.2796 - wine_type_loss: 0.0205 - wine_quality_root_mean_squared_error: 0.5287 - wine_type_accuracy: 0.9968 - val_loss: 0.3965 - val_wine_quality_loss: 0.3493 - val_wine_type_loss: 0.0472 - val_wine_quality_root_mean_squared_error: 0.5910 - val_wine_type_accuracy: 0.9937\n",
      "Epoch 84/180\n",
      "99/99 [==============================] - 0s 2ms/step - loss: 0.3004 - wine_quality_loss: 0.2799 - wine_type_loss: 0.0205 - wine_quality_root_mean_squared_error: 0.5291 - wine_type_accuracy: 0.9968 - val_loss: 0.3971 - val_wine_quality_loss: 0.3499 - val_wine_type_loss: 0.0472 - val_wine_quality_root_mean_squared_error: 0.5916 - val_wine_type_accuracy: 0.9937\n",
      "Epoch 85/180\n",
      "99/99 [==============================] - 0s 2ms/step - loss: 0.2993 - wine_quality_loss: 0.2790 - wine_type_loss: 0.0204 - wine_quality_root_mean_squared_error: 0.5282 - wine_type_accuracy: 0.9968 - val_loss: 0.3947 - val_wine_quality_loss: 0.3475 - val_wine_type_loss: 0.0472 - val_wine_quality_root_mean_squared_error: 0.5895 - val_wine_type_accuracy: 0.9937\n",
      "Epoch 86/180\n",
      "99/99 [==============================] - 0s 1ms/step - loss: 0.2985 - wine_quality_loss: 0.2783 - wine_type_loss: 0.0202 - wine_quality_root_mean_squared_error: 0.5275 - wine_type_accuracy: 0.9968 - val_loss: 0.3912 - val_wine_quality_loss: 0.3443 - val_wine_type_loss: 0.0470 - val_wine_quality_root_mean_squared_error: 0.5867 - val_wine_type_accuracy: 0.9937\n",
      "Epoch 87/180\n",
      "99/99 [==============================] - 0s 2ms/step - loss: 0.2967 - wine_quality_loss: 0.2765 - wine_type_loss: 0.0202 - wine_quality_root_mean_squared_error: 0.5258 - wine_type_accuracy: 0.9968 - val_loss: 0.3948 - val_wine_quality_loss: 0.3477 - val_wine_type_loss: 0.0471 - val_wine_quality_root_mean_squared_error: 0.5897 - val_wine_type_accuracy: 0.9937\n",
      "Epoch 88/180\n",
      "99/99 [==============================] - 0s 2ms/step - loss: 0.2975 - wine_quality_loss: 0.2774 - wine_type_loss: 0.0201 - wine_quality_root_mean_squared_error: 0.5267 - wine_type_accuracy: 0.9968 - val_loss: 0.3938 - val_wine_quality_loss: 0.3468 - val_wine_type_loss: 0.0470 - val_wine_quality_root_mean_squared_error: 0.5889 - val_wine_type_accuracy: 0.9937\n",
      "Epoch 89/180\n",
      "99/99 [==============================] - 0s 2ms/step - loss: 0.2971 - wine_quality_loss: 0.2771 - wine_type_loss: 0.0200 - wine_quality_root_mean_squared_error: 0.5264 - wine_type_accuracy: 0.9968 - val_loss: 0.3894 - val_wine_quality_loss: 0.3424 - val_wine_type_loss: 0.0470 - val_wine_quality_root_mean_squared_error: 0.5851 - val_wine_type_accuracy: 0.9937\n",
      "Epoch 90/180\n",
      "99/99 [==============================] - 0s 1ms/step - loss: 0.2962 - wine_quality_loss: 0.2763 - wine_type_loss: 0.0200 - wine_quality_root_mean_squared_error: 0.5256 - wine_type_accuracy: 0.9968 - val_loss: 0.3883 - val_wine_quality_loss: 0.3413 - val_wine_type_loss: 0.0470 - val_wine_quality_root_mean_squared_error: 0.5842 - val_wine_type_accuracy: 0.9937\n",
      "Epoch 91/180\n",
      "99/99 [==============================] - 0s 2ms/step - loss: 0.2960 - wine_quality_loss: 0.2761 - wine_type_loss: 0.0199 - wine_quality_root_mean_squared_error: 0.5255 - wine_type_accuracy: 0.9968 - val_loss: 0.3888 - val_wine_quality_loss: 0.3417 - val_wine_type_loss: 0.0471 - val_wine_quality_root_mean_squared_error: 0.5845 - val_wine_type_accuracy: 0.9937\n",
      "Epoch 92/180\n",
      "99/99 [==============================] - 0s 1ms/step - loss: 0.2940 - wine_quality_loss: 0.2742 - wine_type_loss: 0.0198 - wine_quality_root_mean_squared_error: 0.5236 - wine_type_accuracy: 0.9968 - val_loss: 0.4060 - val_wine_quality_loss: 0.3590 - val_wine_type_loss: 0.0470 - val_wine_quality_root_mean_squared_error: 0.5992 - val_wine_type_accuracy: 0.9937\n",
      "Epoch 93/180\n",
      "99/99 [==============================] - 0s 1ms/step - loss: 0.2948 - wine_quality_loss: 0.2751 - wine_type_loss: 0.0197 - wine_quality_root_mean_squared_error: 0.5245 - wine_type_accuracy: 0.9968 - val_loss: 0.3894 - val_wine_quality_loss: 0.3424 - val_wine_type_loss: 0.0469 - val_wine_quality_root_mean_squared_error: 0.5852 - val_wine_type_accuracy: 0.9937\n",
      "Epoch 94/180\n",
      "99/99 [==============================] - 0s 2ms/step - loss: 0.2946 - wine_quality_loss: 0.2749 - wine_type_loss: 0.0196 - wine_quality_root_mean_squared_error: 0.5243 - wine_type_accuracy: 0.9968 - val_loss: 0.3891 - val_wine_quality_loss: 0.3423 - val_wine_type_loss: 0.0469 - val_wine_quality_root_mean_squared_error: 0.5850 - val_wine_type_accuracy: 0.9937\n",
      "Epoch 95/180\n",
      "99/99 [==============================] - 0s 2ms/step - loss: 0.2931 - wine_quality_loss: 0.2736 - wine_type_loss: 0.0195 - wine_quality_root_mean_squared_error: 0.5231 - wine_type_accuracy: 0.9968 - val_loss: 0.3869 - val_wine_quality_loss: 0.3400 - val_wine_type_loss: 0.0469 - val_wine_quality_root_mean_squared_error: 0.5831 - val_wine_type_accuracy: 0.9937\n",
      "Epoch 96/180\n",
      "99/99 [==============================] - 0s 1ms/step - loss: 0.2926 - wine_quality_loss: 0.2731 - wine_type_loss: 0.0195 - wine_quality_root_mean_squared_error: 0.5226 - wine_type_accuracy: 0.9968 - val_loss: 0.3928 - val_wine_quality_loss: 0.3459 - val_wine_type_loss: 0.0468 - val_wine_quality_root_mean_squared_error: 0.5882 - val_wine_type_accuracy: 0.9937\n",
      "Epoch 97/180\n",
      "99/99 [==============================] - 0s 2ms/step - loss: 0.2919 - wine_quality_loss: 0.2725 - wine_type_loss: 0.0194 - wine_quality_root_mean_squared_error: 0.5220 - wine_type_accuracy: 0.9968 - val_loss: 0.3906 - val_wine_quality_loss: 0.3438 - val_wine_type_loss: 0.0468 - val_wine_quality_root_mean_squared_error: 0.5863 - val_wine_type_accuracy: 0.9937\n",
      "Epoch 98/180\n",
      "99/99 [==============================] - 0s 2ms/step - loss: 0.2908 - wine_quality_loss: 0.2714 - wine_type_loss: 0.0193 - wine_quality_root_mean_squared_error: 0.5210 - wine_type_accuracy: 0.9968 - val_loss: 0.3956 - val_wine_quality_loss: 0.3490 - val_wine_type_loss: 0.0466 - val_wine_quality_root_mean_squared_error: 0.5907 - val_wine_type_accuracy: 0.9937\n",
      "Epoch 99/180\n",
      "99/99 [==============================] - 0s 2ms/step - loss: 0.2915 - wine_quality_loss: 0.2722 - wine_type_loss: 0.0193 - wine_quality_root_mean_squared_error: 0.5217 - wine_type_accuracy: 0.9968 - val_loss: 0.3901 - val_wine_quality_loss: 0.3433 - val_wine_type_loss: 0.0467 - val_wine_quality_root_mean_squared_error: 0.5860 - val_wine_type_accuracy: 0.9937\n",
      "Epoch 100/180\n",
      "99/99 [==============================] - 0s 2ms/step - loss: 0.2896 - wine_quality_loss: 0.2704 - wine_type_loss: 0.0192 - wine_quality_root_mean_squared_error: 0.5200 - wine_type_accuracy: 0.9968 - val_loss: 0.3896 - val_wine_quality_loss: 0.3430 - val_wine_type_loss: 0.0466 - val_wine_quality_root_mean_squared_error: 0.5856 - val_wine_type_accuracy: 0.9937\n",
      "Epoch 101/180\n",
      "99/99 [==============================] - 0s 2ms/step - loss: 0.2893 - wine_quality_loss: 0.2702 - wine_type_loss: 0.0192 - wine_quality_root_mean_squared_error: 0.5198 - wine_type_accuracy: 0.9968 - val_loss: 0.3974 - val_wine_quality_loss: 0.3509 - val_wine_type_loss: 0.0465 - val_wine_quality_root_mean_squared_error: 0.5924 - val_wine_type_accuracy: 0.9937\n",
      "Epoch 102/180\n",
      "99/99 [==============================] - 0s 2ms/step - loss: 0.2896 - wine_quality_loss: 0.2705 - wine_type_loss: 0.0191 - wine_quality_root_mean_squared_error: 0.5201 - wine_type_accuracy: 0.9968 - val_loss: 0.3946 - val_wine_quality_loss: 0.3481 - val_wine_type_loss: 0.0465 - val_wine_quality_root_mean_squared_error: 0.5900 - val_wine_type_accuracy: 0.9937\n",
      "Epoch 103/180\n",
      "99/99 [==============================] - 0s 1ms/step - loss: 0.2897 - wine_quality_loss: 0.2707 - wine_type_loss: 0.0190 - wine_quality_root_mean_squared_error: 0.5203 - wine_type_accuracy: 0.9968 - val_loss: 0.3898 - val_wine_quality_loss: 0.3433 - val_wine_type_loss: 0.0465 - val_wine_quality_root_mean_squared_error: 0.5859 - val_wine_type_accuracy: 0.9937\n",
      "Epoch 104/180\n",
      "99/99 [==============================] - 0s 2ms/step - loss: 0.2888 - wine_quality_loss: 0.2698 - wine_type_loss: 0.0189 - wine_quality_root_mean_squared_error: 0.5195 - wine_type_accuracy: 0.9968 - val_loss: 0.3879 - val_wine_quality_loss: 0.3415 - val_wine_type_loss: 0.0464 - val_wine_quality_root_mean_squared_error: 0.5844 - val_wine_type_accuracy: 0.9937\n",
      "Epoch 105/180\n",
      "99/99 [==============================] - 0s 1ms/step - loss: 0.2875 - wine_quality_loss: 0.2686 - wine_type_loss: 0.0189 - wine_quality_root_mean_squared_error: 0.5183 - wine_type_accuracy: 0.9968 - val_loss: 0.3917 - val_wine_quality_loss: 0.3453 - val_wine_type_loss: 0.0464 - val_wine_quality_root_mean_squared_error: 0.5876 - val_wine_type_accuracy: 0.9937\n",
      "Epoch 106/180\n",
      "99/99 [==============================] - 0s 2ms/step - loss: 0.2878 - wine_quality_loss: 0.2690 - wine_type_loss: 0.0188 - wine_quality_root_mean_squared_error: 0.5186 - wine_type_accuracy: 0.9968 - val_loss: 0.3907 - val_wine_quality_loss: 0.3444 - val_wine_type_loss: 0.0463 - val_wine_quality_root_mean_squared_error: 0.5869 - val_wine_type_accuracy: 0.9937\n",
      "Epoch 107/180\n",
      "99/99 [==============================] - 0s 1ms/step - loss: 0.2872 - wine_quality_loss: 0.2685 - wine_type_loss: 0.0187 - wine_quality_root_mean_squared_error: 0.5181 - wine_type_accuracy: 0.9968 - val_loss: 0.3854 - val_wine_quality_loss: 0.3392 - val_wine_type_loss: 0.0462 - val_wine_quality_root_mean_squared_error: 0.5824 - val_wine_type_accuracy: 0.9937\n",
      "Epoch 108/180\n",
      "99/99 [==============================] - 0s 2ms/step - loss: 0.2864 - wine_quality_loss: 0.2678 - wine_type_loss: 0.0186 - wine_quality_root_mean_squared_error: 0.5175 - wine_type_accuracy: 0.9968 - val_loss: 0.3866 - val_wine_quality_loss: 0.3404 - val_wine_type_loss: 0.0462 - val_wine_quality_root_mean_squared_error: 0.5835 - val_wine_type_accuracy: 0.9937\n",
      "Epoch 109/180\n",
      "99/99 [==============================] - 0s 1ms/step - loss: 0.2842 - wine_quality_loss: 0.2656 - wine_type_loss: 0.0186 - wine_quality_root_mean_squared_error: 0.5154 - wine_type_accuracy: 0.9968 - val_loss: 0.3941 - val_wine_quality_loss: 0.3479 - val_wine_type_loss: 0.0462 - val_wine_quality_root_mean_squared_error: 0.5898 - val_wine_type_accuracy: 0.9937\n",
      "Epoch 110/180\n",
      "99/99 [==============================] - 0s 2ms/step - loss: 0.2856 - wine_quality_loss: 0.2671 - wine_type_loss: 0.0185 - wine_quality_root_mean_squared_error: 0.5168 - wine_type_accuracy: 0.9968 - val_loss: 0.3888 - val_wine_quality_loss: 0.3426 - val_wine_type_loss: 0.0462 - val_wine_quality_root_mean_squared_error: 0.5853 - val_wine_type_accuracy: 0.9937\n",
      "Epoch 111/180\n",
      "99/99 [==============================] - 0s 2ms/step - loss: 0.2837 - wine_quality_loss: 0.2653 - wine_type_loss: 0.0184 - wine_quality_root_mean_squared_error: 0.5151 - wine_type_accuracy: 0.9968 - val_loss: 0.4119 - val_wine_quality_loss: 0.3658 - val_wine_type_loss: 0.0461 - val_wine_quality_root_mean_squared_error: 0.6048 - val_wine_type_accuracy: 0.9937\n",
      "Epoch 112/180\n",
      "99/99 [==============================] - 0s 2ms/step - loss: 0.2851 - wine_quality_loss: 0.2667 - wine_type_loss: 0.0184 - wine_quality_root_mean_squared_error: 0.5164 - wine_type_accuracy: 0.9968 - val_loss: 0.3853 - val_wine_quality_loss: 0.3391 - val_wine_type_loss: 0.0462 - val_wine_quality_root_mean_squared_error: 0.5823 - val_wine_type_accuracy: 0.9937\n",
      "Epoch 113/180\n",
      "99/99 [==============================] - 0s 1ms/step - loss: 0.2834 - wine_quality_loss: 0.2651 - wine_type_loss: 0.0183 - wine_quality_root_mean_squared_error: 0.5149 - wine_type_accuracy: 0.9968 - val_loss: 0.3920 - val_wine_quality_loss: 0.3460 - val_wine_type_loss: 0.0460 - val_wine_quality_root_mean_squared_error: 0.5882 - val_wine_type_accuracy: 0.9937\n",
      "Epoch 114/180\n",
      "99/99 [==============================] - 0s 2ms/step - loss: 0.2834 - wine_quality_loss: 0.2652 - wine_type_loss: 0.0182 - wine_quality_root_mean_squared_error: 0.5150 - wine_type_accuracy: 0.9968 - val_loss: 0.3888 - val_wine_quality_loss: 0.3429 - val_wine_type_loss: 0.0459 - val_wine_quality_root_mean_squared_error: 0.5856 - val_wine_type_accuracy: 0.9937\n",
      "Epoch 115/180\n",
      "99/99 [==============================] - 0s 2ms/step - loss: 0.2819 - wine_quality_loss: 0.2638 - wine_type_loss: 0.0182 - wine_quality_root_mean_squared_error: 0.5136 - wine_type_accuracy: 0.9968 - val_loss: 0.3862 - val_wine_quality_loss: 0.3403 - val_wine_type_loss: 0.0459 - val_wine_quality_root_mean_squared_error: 0.5834 - val_wine_type_accuracy: 0.9937\n",
      "Epoch 116/180\n",
      "99/99 [==============================] - 0s 2ms/step - loss: 0.2824 - wine_quality_loss: 0.2643 - wine_type_loss: 0.0181 - wine_quality_root_mean_squared_error: 0.5141 - wine_type_accuracy: 0.9968 - val_loss: 0.3954 - val_wine_quality_loss: 0.3497 - val_wine_type_loss: 0.0458 - val_wine_quality_root_mean_squared_error: 0.5913 - val_wine_type_accuracy: 0.9937\n",
      "Epoch 117/180\n",
      "99/99 [==============================] - 0s 2ms/step - loss: 0.2817 - wine_quality_loss: 0.2636 - wine_type_loss: 0.0180 - wine_quality_root_mean_squared_error: 0.5135 - wine_type_accuracy: 0.9968 - val_loss: 0.3935 - val_wine_quality_loss: 0.3478 - val_wine_type_loss: 0.0458 - val_wine_quality_root_mean_squared_error: 0.5897 - val_wine_type_accuracy: 0.9937\n",
      "Epoch 118/180\n",
      "99/99 [==============================] - 0s 1ms/step - loss: 0.2814 - wine_quality_loss: 0.2634 - wine_type_loss: 0.0180 - wine_quality_root_mean_squared_error: 0.5132 - wine_type_accuracy: 0.9968 - val_loss: 0.3915 - val_wine_quality_loss: 0.3457 - val_wine_type_loss: 0.0458 - val_wine_quality_root_mean_squared_error: 0.5879 - val_wine_type_accuracy: 0.9937\n",
      "Epoch 119/180\n",
      "99/99 [==============================] - 0s 2ms/step - loss: 0.2811 - wine_quality_loss: 0.2632 - wine_type_loss: 0.0179 - wine_quality_root_mean_squared_error: 0.5130 - wine_type_accuracy: 0.9968 - val_loss: 0.3974 - val_wine_quality_loss: 0.3517 - val_wine_type_loss: 0.0458 - val_wine_quality_root_mean_squared_error: 0.5930 - val_wine_type_accuracy: 0.9937\n",
      "Epoch 120/180\n",
      "99/99 [==============================] - 0s 2ms/step - loss: 0.2794 - wine_quality_loss: 0.2616 - wine_type_loss: 0.0178 - wine_quality_root_mean_squared_error: 0.5114 - wine_type_accuracy: 0.9968 - val_loss: 0.3903 - val_wine_quality_loss: 0.3446 - val_wine_type_loss: 0.0457 - val_wine_quality_root_mean_squared_error: 0.5870 - val_wine_type_accuracy: 0.9937\n",
      "Epoch 121/180\n",
      "99/99 [==============================] - 0s 2ms/step - loss: 0.2800 - wine_quality_loss: 0.2622 - wine_type_loss: 0.0178 - wine_quality_root_mean_squared_error: 0.5121 - wine_type_accuracy: 0.9968 - val_loss: 0.3893 - val_wine_quality_loss: 0.3436 - val_wine_type_loss: 0.0457 - val_wine_quality_root_mean_squared_error: 0.5862 - val_wine_type_accuracy: 0.9937\n",
      "Epoch 122/180\n",
      "99/99 [==============================] - 0s 2ms/step - loss: 0.2800 - wine_quality_loss: 0.2622 - wine_type_loss: 0.0178 - wine_quality_root_mean_squared_error: 0.5121 - wine_type_accuracy: 0.9968 - val_loss: 0.3898 - val_wine_quality_loss: 0.3441 - val_wine_type_loss: 0.0457 - val_wine_quality_root_mean_squared_error: 0.5866 - val_wine_type_accuracy: 0.9937\n",
      "Epoch 123/180\n",
      "99/99 [==============================] - 0s 2ms/step - loss: 0.2797 - wine_quality_loss: 0.2620 - wine_type_loss: 0.0177 - wine_quality_root_mean_squared_error: 0.5119 - wine_type_accuracy: 0.9968 - val_loss: 0.3875 - val_wine_quality_loss: 0.3418 - val_wine_type_loss: 0.0457 - val_wine_quality_root_mean_squared_error: 0.5846 - val_wine_type_accuracy: 0.9937\n",
      "Epoch 124/180\n",
      "99/99 [==============================] - 0s 2ms/step - loss: 0.2788 - wine_quality_loss: 0.2612 - wine_type_loss: 0.0176 - wine_quality_root_mean_squared_error: 0.5110 - wine_type_accuracy: 0.9968 - val_loss: 0.3836 - val_wine_quality_loss: 0.3380 - val_wine_type_loss: 0.0456 - val_wine_quality_root_mean_squared_error: 0.5814 - val_wine_type_accuracy: 0.9937\n",
      "Epoch 125/180\n",
      "99/99 [==============================] - 0s 2ms/step - loss: 0.2784 - wine_quality_loss: 0.2608 - wine_type_loss: 0.0175 - wine_quality_root_mean_squared_error: 0.5107 - wine_type_accuracy: 0.9968 - val_loss: 0.3885 - val_wine_quality_loss: 0.3430 - val_wine_type_loss: 0.0455 - val_wine_quality_root_mean_squared_error: 0.5856 - val_wine_type_accuracy: 0.9937\n",
      "Epoch 126/180\n",
      "99/99 [==============================] - 0s 2ms/step - loss: 0.2772 - wine_quality_loss: 0.2597 - wine_type_loss: 0.0174 - wine_quality_root_mean_squared_error: 0.5096 - wine_type_accuracy: 0.9968 - val_loss: 0.3913 - val_wine_quality_loss: 0.3457 - val_wine_type_loss: 0.0456 - val_wine_quality_root_mean_squared_error: 0.5880 - val_wine_type_accuracy: 0.9937\n",
      "Epoch 127/180\n",
      "99/99 [==============================] - 0s 2ms/step - loss: 0.2775 - wine_quality_loss: 0.2601 - wine_type_loss: 0.0174 - wine_quality_root_mean_squared_error: 0.5100 - wine_type_accuracy: 0.9968 - val_loss: 0.3886 - val_wine_quality_loss: 0.3430 - val_wine_type_loss: 0.0455 - val_wine_quality_root_mean_squared_error: 0.5857 - val_wine_type_accuracy: 0.9937\n",
      "Epoch 128/180\n",
      "99/99 [==============================] - 0s 2ms/step - loss: 0.2759 - wine_quality_loss: 0.2585 - wine_type_loss: 0.0174 - wine_quality_root_mean_squared_error: 0.5085 - wine_type_accuracy: 0.9968 - val_loss: 0.3865 - val_wine_quality_loss: 0.3411 - val_wine_type_loss: 0.0454 - val_wine_quality_root_mean_squared_error: 0.5840 - val_wine_type_accuracy: 0.9937\n",
      "Epoch 129/180\n",
      "99/99 [==============================] - 0s 1ms/step - loss: 0.2755 - wine_quality_loss: 0.2581 - wine_type_loss: 0.0173 - wine_quality_root_mean_squared_error: 0.5081 - wine_type_accuracy: 0.9968 - val_loss: 0.3896 - val_wine_quality_loss: 0.3442 - val_wine_type_loss: 0.0454 - val_wine_quality_root_mean_squared_error: 0.5867 - val_wine_type_accuracy: 0.9937\n",
      "Epoch 130/180\n",
      "99/99 [==============================] - 0s 1ms/step - loss: 0.2772 - wine_quality_loss: 0.2599 - wine_type_loss: 0.0173 - wine_quality_root_mean_squared_error: 0.5098 - wine_type_accuracy: 0.9968 - val_loss: 0.3887 - val_wine_quality_loss: 0.3434 - val_wine_type_loss: 0.0454 - val_wine_quality_root_mean_squared_error: 0.5860 - val_wine_type_accuracy: 0.9937\n",
      "Epoch 131/180\n",
      "99/99 [==============================] - 0s 2ms/step - loss: 0.2756 - wine_quality_loss: 0.2583 - wine_type_loss: 0.0172 - wine_quality_root_mean_squared_error: 0.5083 - wine_type_accuracy: 0.9968 - val_loss: 0.3913 - val_wine_quality_loss: 0.3459 - val_wine_type_loss: 0.0454 - val_wine_quality_root_mean_squared_error: 0.5882 - val_wine_type_accuracy: 0.9937\n",
      "Epoch 132/180\n",
      "99/99 [==============================] - 0s 2ms/step - loss: 0.2750 - wine_quality_loss: 0.2578 - wine_type_loss: 0.0172 - wine_quality_root_mean_squared_error: 0.5077 - wine_type_accuracy: 0.9968 - val_loss: 0.3860 - val_wine_quality_loss: 0.3406 - val_wine_type_loss: 0.0454 - val_wine_quality_root_mean_squared_error: 0.5836 - val_wine_type_accuracy: 0.9937\n",
      "Epoch 133/180\n",
      "99/99 [==============================] - 0s 1ms/step - loss: 0.2739 - wine_quality_loss: 0.2568 - wine_type_loss: 0.0171 - wine_quality_root_mean_squared_error: 0.5068 - wine_type_accuracy: 0.9968 - val_loss: 0.3901 - val_wine_quality_loss: 0.3448 - val_wine_type_loss: 0.0453 - val_wine_quality_root_mean_squared_error: 0.5872 - val_wine_type_accuracy: 0.9949\n",
      "Epoch 134/180\n",
      "99/99 [==============================] - 0s 2ms/step - loss: 0.2742 - wine_quality_loss: 0.2572 - wine_type_loss: 0.0170 - wine_quality_root_mean_squared_error: 0.5072 - wine_type_accuracy: 0.9968 - val_loss: 0.3857 - val_wine_quality_loss: 0.3405 - val_wine_type_loss: 0.0452 - val_wine_quality_root_mean_squared_error: 0.5835 - val_wine_type_accuracy: 0.9949\n",
      "Epoch 135/180\n",
      "99/99 [==============================] - 0s 2ms/step - loss: 0.2739 - wine_quality_loss: 0.2569 - wine_type_loss: 0.0170 - wine_quality_root_mean_squared_error: 0.5068 - wine_type_accuracy: 0.9968 - val_loss: 0.3899 - val_wine_quality_loss: 0.3448 - val_wine_type_loss: 0.0452 - val_wine_quality_root_mean_squared_error: 0.5872 - val_wine_type_accuracy: 0.9949\n",
      "Epoch 136/180\n",
      "99/99 [==============================] - 0s 2ms/step - loss: 0.2736 - wine_quality_loss: 0.2567 - wine_type_loss: 0.0169 - wine_quality_root_mean_squared_error: 0.5066 - wine_type_accuracy: 0.9968 - val_loss: 0.3861 - val_wine_quality_loss: 0.3409 - val_wine_type_loss: 0.0452 - val_wine_quality_root_mean_squared_error: 0.5839 - val_wine_type_accuracy: 0.9949\n",
      "Epoch 137/180\n",
      "99/99 [==============================] - 0s 1ms/step - loss: 0.2723 - wine_quality_loss: 0.2553 - wine_type_loss: 0.0169 - wine_quality_root_mean_squared_error: 0.5053 - wine_type_accuracy: 0.9968 - val_loss: 0.3946 - val_wine_quality_loss: 0.3494 - val_wine_type_loss: 0.0452 - val_wine_quality_root_mean_squared_error: 0.5911 - val_wine_type_accuracy: 0.9937\n",
      "Epoch 138/180\n",
      "99/99 [==============================] - 0s 2ms/step - loss: 0.2728 - wine_quality_loss: 0.2560 - wine_type_loss: 0.0168 - wine_quality_root_mean_squared_error: 0.5059 - wine_type_accuracy: 0.9971 - val_loss: 0.3967 - val_wine_quality_loss: 0.3514 - val_wine_type_loss: 0.0452 - val_wine_quality_root_mean_squared_error: 0.5928 - val_wine_type_accuracy: 0.9949\n",
      "Epoch 139/180\n",
      "99/99 [==============================] - 0s 1ms/step - loss: 0.2724 - wine_quality_loss: 0.2557 - wine_type_loss: 0.0168 - wine_quality_root_mean_squared_error: 0.5056 - wine_type_accuracy: 0.9971 - val_loss: 0.3873 - val_wine_quality_loss: 0.3422 - val_wine_type_loss: 0.0452 - val_wine_quality_root_mean_squared_error: 0.5850 - val_wine_type_accuracy: 0.9949\n",
      "Epoch 140/180\n",
      "99/99 [==============================] - 0s 1ms/step - loss: 0.2716 - wine_quality_loss: 0.2548 - wine_type_loss: 0.0167 - wine_quality_root_mean_squared_error: 0.5048 - wine_type_accuracy: 0.9968 - val_loss: 0.3884 - val_wine_quality_loss: 0.3433 - val_wine_type_loss: 0.0451 - val_wine_quality_root_mean_squared_error: 0.5859 - val_wine_type_accuracy: 0.9949\n",
      "Epoch 141/180\n",
      "99/99 [==============================] - 0s 2ms/step - loss: 0.2701 - wine_quality_loss: 0.2534 - wine_type_loss: 0.0167 - wine_quality_root_mean_squared_error: 0.5034 - wine_type_accuracy: 0.9971 - val_loss: 0.3907 - val_wine_quality_loss: 0.3457 - val_wine_type_loss: 0.0450 - val_wine_quality_root_mean_squared_error: 0.5880 - val_wine_type_accuracy: 0.9949\n",
      "Epoch 142/180\n",
      "99/99 [==============================] - 0s 2ms/step - loss: 0.2712 - wine_quality_loss: 0.2546 - wine_type_loss: 0.0166 - wine_quality_root_mean_squared_error: 0.5046 - wine_type_accuracy: 0.9971 - val_loss: 0.3849 - val_wine_quality_loss: 0.3399 - val_wine_type_loss: 0.0450 - val_wine_quality_root_mean_squared_error: 0.5830 - val_wine_type_accuracy: 0.9949\n",
      "Epoch 143/180\n",
      "99/99 [==============================] - 0s 2ms/step - loss: 0.2705 - wine_quality_loss: 0.2539 - wine_type_loss: 0.0166 - wine_quality_root_mean_squared_error: 0.5039 - wine_type_accuracy: 0.9968 - val_loss: 0.4030 - val_wine_quality_loss: 0.3580 - val_wine_type_loss: 0.0450 - val_wine_quality_root_mean_squared_error: 0.5983 - val_wine_type_accuracy: 0.9949\n",
      "Epoch 144/180\n",
      "99/99 [==============================] - 0s 2ms/step - loss: 0.2701 - wine_quality_loss: 0.2536 - wine_type_loss: 0.0165 - wine_quality_root_mean_squared_error: 0.5036 - wine_type_accuracy: 0.9971 - val_loss: 0.3963 - val_wine_quality_loss: 0.3514 - val_wine_type_loss: 0.0448 - val_wine_quality_root_mean_squared_error: 0.5928 - val_wine_type_accuracy: 0.9949\n",
      "Epoch 145/180\n",
      "99/99 [==============================] - 0s 2ms/step - loss: 0.2695 - wine_quality_loss: 0.2531 - wine_type_loss: 0.0165 - wine_quality_root_mean_squared_error: 0.5031 - wine_type_accuracy: 0.9971 - val_loss: 0.3877 - val_wine_quality_loss: 0.3429 - val_wine_type_loss: 0.0449 - val_wine_quality_root_mean_squared_error: 0.5856 - val_wine_type_accuracy: 0.9949\n",
      "Epoch 146/180\n",
      "99/99 [==============================] - 0s 1ms/step - loss: 0.2688 - wine_quality_loss: 0.2524 - wine_type_loss: 0.0164 - wine_quality_root_mean_squared_error: 0.5024 - wine_type_accuracy: 0.9968 - val_loss: 0.3869 - val_wine_quality_loss: 0.3422 - val_wine_type_loss: 0.0447 - val_wine_quality_root_mean_squared_error: 0.5850 - val_wine_type_accuracy: 0.9949\n",
      "Epoch 147/180\n",
      "99/99 [==============================] - 0s 2ms/step - loss: 0.2687 - wine_quality_loss: 0.2523 - wine_type_loss: 0.0163 - wine_quality_root_mean_squared_error: 0.5023 - wine_type_accuracy: 0.9971 - val_loss: 0.3878 - val_wine_quality_loss: 0.3429 - val_wine_type_loss: 0.0449 - val_wine_quality_root_mean_squared_error: 0.5856 - val_wine_type_accuracy: 0.9949\n",
      "Epoch 148/180\n",
      "99/99 [==============================] - 0s 2ms/step - loss: 0.2687 - wine_quality_loss: 0.2523 - wine_type_loss: 0.0164 - wine_quality_root_mean_squared_error: 0.5023 - wine_type_accuracy: 0.9968 - val_loss: 0.3891 - val_wine_quality_loss: 0.3442 - val_wine_type_loss: 0.0450 - val_wine_quality_root_mean_squared_error: 0.5867 - val_wine_type_accuracy: 0.9949\n",
      "Epoch 149/180\n",
      "99/99 [==============================] - 0s 2ms/step - loss: 0.2677 - wine_quality_loss: 0.2514 - wine_type_loss: 0.0163 - wine_quality_root_mean_squared_error: 0.5014 - wine_type_accuracy: 0.9971 - val_loss: 0.3868 - val_wine_quality_loss: 0.3419 - val_wine_type_loss: 0.0449 - val_wine_quality_root_mean_squared_error: 0.5847 - val_wine_type_accuracy: 0.9949\n",
      "Epoch 150/180\n",
      "99/99 [==============================] - 0s 2ms/step - loss: 0.2685 - wine_quality_loss: 0.2523 - wine_type_loss: 0.0162 - wine_quality_root_mean_squared_error: 0.5023 - wine_type_accuracy: 0.9971 - val_loss: 0.3890 - val_wine_quality_loss: 0.3442 - val_wine_type_loss: 0.0448 - val_wine_quality_root_mean_squared_error: 0.5867 - val_wine_type_accuracy: 0.9949\n",
      "Epoch 151/180\n",
      "99/99 [==============================] - 0s 2ms/step - loss: 0.2674 - wine_quality_loss: 0.2513 - wine_type_loss: 0.0161 - wine_quality_root_mean_squared_error: 0.5013 - wine_type_accuracy: 0.9971 - val_loss: 0.3876 - val_wine_quality_loss: 0.3428 - val_wine_type_loss: 0.0447 - val_wine_quality_root_mean_squared_error: 0.5855 - val_wine_type_accuracy: 0.9949\n",
      "Epoch 152/180\n",
      "99/99 [==============================] - 0s 2ms/step - loss: 0.2662 - wine_quality_loss: 0.2501 - wine_type_loss: 0.0161 - wine_quality_root_mean_squared_error: 0.5001 - wine_type_accuracy: 0.9971 - val_loss: 0.3943 - val_wine_quality_loss: 0.3495 - val_wine_type_loss: 0.0447 - val_wine_quality_root_mean_squared_error: 0.5912 - val_wine_type_accuracy: 0.9949\n",
      "Epoch 153/180\n",
      "99/99 [==============================] - 0s 1ms/step - loss: 0.2648 - wine_quality_loss: 0.2487 - wine_type_loss: 0.0161 - wine_quality_root_mean_squared_error: 0.4987 - wine_type_accuracy: 0.9971 - val_loss: 0.3990 - val_wine_quality_loss: 0.3544 - val_wine_type_loss: 0.0446 - val_wine_quality_root_mean_squared_error: 0.5953 - val_wine_type_accuracy: 0.9949\n",
      "Epoch 154/180\n",
      "99/99 [==============================] - 0s 2ms/step - loss: 0.2662 - wine_quality_loss: 0.2502 - wine_type_loss: 0.0160 - wine_quality_root_mean_squared_error: 0.5002 - wine_type_accuracy: 0.9971 - val_loss: 0.3875 - val_wine_quality_loss: 0.3429 - val_wine_type_loss: 0.0446 - val_wine_quality_root_mean_squared_error: 0.5856 - val_wine_type_accuracy: 0.9949\n",
      "Epoch 155/180\n",
      "99/99 [==============================] - 0s 1ms/step - loss: 0.2651 - wine_quality_loss: 0.2491 - wine_type_loss: 0.0160 - wine_quality_root_mean_squared_error: 0.4991 - wine_type_accuracy: 0.9971 - val_loss: 0.3905 - val_wine_quality_loss: 0.3459 - val_wine_type_loss: 0.0446 - val_wine_quality_root_mean_squared_error: 0.5881 - val_wine_type_accuracy: 0.9949\n",
      "Epoch 156/180\n",
      "99/99 [==============================] - 0s 2ms/step - loss: 0.2652 - wine_quality_loss: 0.2494 - wine_type_loss: 0.0159 - wine_quality_root_mean_squared_error: 0.4994 - wine_type_accuracy: 0.9971 - val_loss: 0.3851 - val_wine_quality_loss: 0.3405 - val_wine_type_loss: 0.0446 - val_wine_quality_root_mean_squared_error: 0.5835 - val_wine_type_accuracy: 0.9949\n",
      "Epoch 157/180\n",
      "99/99 [==============================] - 0s 2ms/step - loss: 0.2653 - wine_quality_loss: 0.2495 - wine_type_loss: 0.0159 - wine_quality_root_mean_squared_error: 0.4995 - wine_type_accuracy: 0.9971 - val_loss: 0.3890 - val_wine_quality_loss: 0.3443 - val_wine_type_loss: 0.0446 - val_wine_quality_root_mean_squared_error: 0.5868 - val_wine_type_accuracy: 0.9949\n",
      "Epoch 158/180\n",
      "99/99 [==============================] - 0s 1ms/step - loss: 0.2630 - wine_quality_loss: 0.2472 - wine_type_loss: 0.0158 - wine_quality_root_mean_squared_error: 0.4972 - wine_type_accuracy: 0.9971 - val_loss: 0.3859 - val_wine_quality_loss: 0.3414 - val_wine_type_loss: 0.0445 - val_wine_quality_root_mean_squared_error: 0.5843 - val_wine_type_accuracy: 0.9949\n",
      "Epoch 159/180\n",
      "99/99 [==============================] - 0s 1ms/step - loss: 0.2638 - wine_quality_loss: 0.2480 - wine_type_loss: 0.0158 - wine_quality_root_mean_squared_error: 0.4980 - wine_type_accuracy: 0.9971 - val_loss: 0.4022 - val_wine_quality_loss: 0.3576 - val_wine_type_loss: 0.0446 - val_wine_quality_root_mean_squared_error: 0.5980 - val_wine_type_accuracy: 0.9949\n",
      "Epoch 160/180\n",
      "99/99 [==============================] - 0s 2ms/step - loss: 0.2640 - wine_quality_loss: 0.2483 - wine_type_loss: 0.0157 - wine_quality_root_mean_squared_error: 0.4983 - wine_type_accuracy: 0.9971 - val_loss: 0.3910 - val_wine_quality_loss: 0.3465 - val_wine_type_loss: 0.0445 - val_wine_quality_root_mean_squared_error: 0.5886 - val_wine_type_accuracy: 0.9949\n",
      "Epoch 161/180\n",
      "99/99 [==============================] - 0s 1ms/step - loss: 0.2634 - wine_quality_loss: 0.2477 - wine_type_loss: 0.0157 - wine_quality_root_mean_squared_error: 0.4977 - wine_type_accuracy: 0.9971 - val_loss: 0.3924 - val_wine_quality_loss: 0.3479 - val_wine_type_loss: 0.0444 - val_wine_quality_root_mean_squared_error: 0.5898 - val_wine_type_accuracy: 0.9949\n",
      "Epoch 162/180\n",
      "99/99 [==============================] - 0s 2ms/step - loss: 0.2626 - wine_quality_loss: 0.2469 - wine_type_loss: 0.0157 - wine_quality_root_mean_squared_error: 0.4969 - wine_type_accuracy: 0.9971 - val_loss: 0.4001 - val_wine_quality_loss: 0.3557 - val_wine_type_loss: 0.0444 - val_wine_quality_root_mean_squared_error: 0.5964 - val_wine_type_accuracy: 0.9949\n",
      "Epoch 163/180\n",
      "99/99 [==============================] - 0s 1ms/step - loss: 0.2622 - wine_quality_loss: 0.2466 - wine_type_loss: 0.0156 - wine_quality_root_mean_squared_error: 0.4966 - wine_type_accuracy: 0.9971 - val_loss: 0.3962 - val_wine_quality_loss: 0.3517 - val_wine_type_loss: 0.0444 - val_wine_quality_root_mean_squared_error: 0.5931 - val_wine_type_accuracy: 0.9949\n",
      "Epoch 164/180\n",
      "99/99 [==============================] - 0s 2ms/step - loss: 0.2621 - wine_quality_loss: 0.2465 - wine_type_loss: 0.0156 - wine_quality_root_mean_squared_error: 0.4965 - wine_type_accuracy: 0.9971 - val_loss: 0.3892 - val_wine_quality_loss: 0.3449 - val_wine_type_loss: 0.0444 - val_wine_quality_root_mean_squared_error: 0.5872 - val_wine_type_accuracy: 0.9949\n",
      "Epoch 165/180\n",
      "99/99 [==============================] - 0s 1ms/step - loss: 0.2618 - wine_quality_loss: 0.2463 - wine_type_loss: 0.0155 - wine_quality_root_mean_squared_error: 0.4963 - wine_type_accuracy: 0.9971 - val_loss: 0.3896 - val_wine_quality_loss: 0.3453 - val_wine_type_loss: 0.0444 - val_wine_quality_root_mean_squared_error: 0.5876 - val_wine_type_accuracy: 0.9949\n",
      "Epoch 166/180\n",
      "99/99 [==============================] - 0s 2ms/step - loss: 0.2618 - wine_quality_loss: 0.2463 - wine_type_loss: 0.0155 - wine_quality_root_mean_squared_error: 0.4963 - wine_type_accuracy: 0.9971 - val_loss: 0.3905 - val_wine_quality_loss: 0.3462 - val_wine_type_loss: 0.0443 - val_wine_quality_root_mean_squared_error: 0.5884 - val_wine_type_accuracy: 0.9949\n",
      "Epoch 167/180\n",
      "99/99 [==============================] - 0s 2ms/step - loss: 0.2610 - wine_quality_loss: 0.2455 - wine_type_loss: 0.0155 - wine_quality_root_mean_squared_error: 0.4955 - wine_type_accuracy: 0.9971 - val_loss: 0.3895 - val_wine_quality_loss: 0.3453 - val_wine_type_loss: 0.0442 - val_wine_quality_root_mean_squared_error: 0.5876 - val_wine_type_accuracy: 0.9949\n",
      "Epoch 168/180\n",
      "99/99 [==============================] - 0s 2ms/step - loss: 0.2600 - wine_quality_loss: 0.2447 - wine_type_loss: 0.0153 - wine_quality_root_mean_squared_error: 0.4946 - wine_type_accuracy: 0.9971 - val_loss: 0.3874 - val_wine_quality_loss: 0.3431 - val_wine_type_loss: 0.0443 - val_wine_quality_root_mean_squared_error: 0.5858 - val_wine_type_accuracy: 0.9949\n",
      "Epoch 169/180\n",
      "99/99 [==============================] - 0s 2ms/step - loss: 0.2599 - wine_quality_loss: 0.2446 - wine_type_loss: 0.0154 - wine_quality_root_mean_squared_error: 0.4945 - wine_type_accuracy: 0.9971 - val_loss: 0.3910 - val_wine_quality_loss: 0.3467 - val_wine_type_loss: 0.0443 - val_wine_quality_root_mean_squared_error: 0.5888 - val_wine_type_accuracy: 0.9949\n",
      "Epoch 170/180\n",
      "99/99 [==============================] - 0s 2ms/step - loss: 0.2596 - wine_quality_loss: 0.2443 - wine_type_loss: 0.0153 - wine_quality_root_mean_squared_error: 0.4943 - wine_type_accuracy: 0.9971 - val_loss: 0.3890 - val_wine_quality_loss: 0.3448 - val_wine_type_loss: 0.0442 - val_wine_quality_root_mean_squared_error: 0.5872 - val_wine_type_accuracy: 0.9949\n",
      "Epoch 171/180\n",
      "99/99 [==============================] - 0s 2ms/step - loss: 0.2593 - wine_quality_loss: 0.2441 - wine_type_loss: 0.0152 - wine_quality_root_mean_squared_error: 0.4941 - wine_type_accuracy: 0.9971 - val_loss: 0.3915 - val_wine_quality_loss: 0.3472 - val_wine_type_loss: 0.0443 - val_wine_quality_root_mean_squared_error: 0.5892 - val_wine_type_accuracy: 0.9949\n",
      "Epoch 172/180\n",
      "99/99 [==============================] - 0s 1ms/step - loss: 0.2595 - wine_quality_loss: 0.2442 - wine_type_loss: 0.0153 - wine_quality_root_mean_squared_error: 0.4942 - wine_type_accuracy: 0.9971 - val_loss: 0.3865 - val_wine_quality_loss: 0.3422 - val_wine_type_loss: 0.0443 - val_wine_quality_root_mean_squared_error: 0.5850 - val_wine_type_accuracy: 0.9949\n",
      "Epoch 173/180\n",
      "99/99 [==============================] - 0s 2ms/step - loss: 0.2581 - wine_quality_loss: 0.2429 - wine_type_loss: 0.0152 - wine_quality_root_mean_squared_error: 0.4928 - wine_type_accuracy: 0.9971 - val_loss: 0.3894 - val_wine_quality_loss: 0.3451 - val_wine_type_loss: 0.0444 - val_wine_quality_root_mean_squared_error: 0.5874 - val_wine_type_accuracy: 0.9949\n",
      "Epoch 174/180\n",
      "99/99 [==============================] - 0s 2ms/step - loss: 0.2580 - wine_quality_loss: 0.2429 - wine_type_loss: 0.0151 - wine_quality_root_mean_squared_error: 0.4929 - wine_type_accuracy: 0.9971 - val_loss: 0.3898 - val_wine_quality_loss: 0.3456 - val_wine_type_loss: 0.0442 - val_wine_quality_root_mean_squared_error: 0.5879 - val_wine_type_accuracy: 0.9949\n",
      "Epoch 175/180\n",
      "99/99 [==============================] - 0s 1ms/step - loss: 0.2580 - wine_quality_loss: 0.2429 - wine_type_loss: 0.0151 - wine_quality_root_mean_squared_error: 0.4929 - wine_type_accuracy: 0.9971 - val_loss: 0.3944 - val_wine_quality_loss: 0.3502 - val_wine_type_loss: 0.0443 - val_wine_quality_root_mean_squared_error: 0.5917 - val_wine_type_accuracy: 0.9949\n",
      "Epoch 176/180\n",
      "99/99 [==============================] - 0s 1ms/step - loss: 0.2579 - wine_quality_loss: 0.2428 - wine_type_loss: 0.0151 - wine_quality_root_mean_squared_error: 0.4927 - wine_type_accuracy: 0.9971 - val_loss: 0.3865 - val_wine_quality_loss: 0.3424 - val_wine_type_loss: 0.0441 - val_wine_quality_root_mean_squared_error: 0.5851 - val_wine_type_accuracy: 0.9949\n",
      "Epoch 177/180\n",
      "99/99 [==============================] - 0s 2ms/step - loss: 0.2566 - wine_quality_loss: 0.2416 - wine_type_loss: 0.0150 - wine_quality_root_mean_squared_error: 0.4915 - wine_type_accuracy: 0.9975 - val_loss: 0.3870 - val_wine_quality_loss: 0.3429 - val_wine_type_loss: 0.0441 - val_wine_quality_root_mean_squared_error: 0.5856 - val_wine_type_accuracy: 0.9949\n",
      "Epoch 178/180\n",
      "99/99 [==============================] - 0s 2ms/step - loss: 0.2564 - wine_quality_loss: 0.2414 - wine_type_loss: 0.0150 - wine_quality_root_mean_squared_error: 0.4913 - wine_type_accuracy: 0.9975 - val_loss: 0.3887 - val_wine_quality_loss: 0.3446 - val_wine_type_loss: 0.0441 - val_wine_quality_root_mean_squared_error: 0.5870 - val_wine_type_accuracy: 0.9949\n",
      "Epoch 179/180\n",
      "99/99 [==============================] - 0s 2ms/step - loss: 0.2567 - wine_quality_loss: 0.2417 - wine_type_loss: 0.0150 - wine_quality_root_mean_squared_error: 0.4916 - wine_type_accuracy: 0.9971 - val_loss: 0.3891 - val_wine_quality_loss: 0.3450 - val_wine_type_loss: 0.0441 - val_wine_quality_root_mean_squared_error: 0.5874 - val_wine_type_accuracy: 0.9949\n",
      "Epoch 180/180\n",
      "99/99 [==============================] - 0s 2ms/step - loss: 0.2566 - wine_quality_loss: 0.2417 - wine_type_loss: 0.0149 - wine_quality_root_mean_squared_error: 0.4916 - wine_type_accuracy: 0.9971 - val_loss: 0.3947 - val_wine_quality_loss: 0.3507 - val_wine_type_loss: 0.0441 - val_wine_quality_root_mean_squared_error: 0.5922 - val_wine_type_accuracy: 0.9949\n"
     ]
    },
    {
     "data": {
      "text/plain": [
       "<keras.callbacks.History at 0x1746f298220>"
      ]
     },
     "execution_count": 98,
     "metadata": {},
     "output_type": "execute_result"
    }
   ],
   "source": [
    "model.fit(train_normalized, train_y, epochs=180, validation_data=(val_normalize, val_y))"
   ]
  },
  {
   "cell_type": "markdown",
   "id": "ba655fa8",
   "metadata": {
    "pycharm": {
     "name": "#%% md\n"
    }
   },
   "source": [
    "# Test the Model"
   ]
  },
  {
   "cell_type": "code",
   "execution_count": 99,
   "id": "d8797e08",
   "metadata": {
    "pycharm": {
     "name": "#%%\n"
    }
   },
   "outputs": [
    {
     "name": "stdout",
     "output_type": "stream",
     "text": [
      "31/31 [==============================] - 0s 875us/step\n"
     ]
    }
   ],
   "source": [
    "pred_y=model.predict(test_normalized)"
   ]
  },
  {
   "cell_type": "code",
   "execution_count": 100,
   "id": "7f570988",
   "metadata": {
    "pycharm": {
     "name": "#%%\n"
    }
   },
   "outputs": [
    {
     "name": "stdout",
     "output_type": "stream",
     "text": [
      "[5.8666167]\n",
      "6\n",
      "[2.333919e-06]\n",
      "0\n"
     ]
    }
   ],
   "source": [
    "print(pred_y[0][2])\n",
    "print(test_y[0][2])\n",
    "print(pred_y[1][2])\n",
    "print(test_y[1][2])"
   ]
  }
 ],
 "metadata": {
  "kernelspec": {
   "display_name": "Python 3 (ipykernel)",
   "language": "python",
   "name": "python3"
  },
  "language_info": {
   "codemirror_mode": {
    "name": "ipython",
    "version": 3
   },
   "file_extension": ".py",
   "mimetype": "text/x-python",
   "name": "python",
   "nbconvert_exporter": "python",
   "pygments_lexer": "ipython3",
   "version": "3.9.12"
  }
 },
 "nbformat": 4,
 "nbformat_minor": 5
}